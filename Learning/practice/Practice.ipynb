{
 "cells": [
  {
   "cell_type": "markdown",
   "id": "f3c030c4",
   "metadata": {},
   "source": [
    "# Practice"
   ]
  },
  {
   "cell_type": "code",
   "execution_count": 6,
   "id": "3c53d7ff",
   "metadata": {},
   "outputs": [
    {
     "name": "stdout",
     "output_type": "stream",
     "text": [
      "Me\n"
     ]
    }
   ],
   "source": [
    "print(\"me\".title())"
   ]
  },
  {
   "cell_type": "code",
   "execution_count": 7,
   "id": "4b9e18d3",
   "metadata": {},
   "outputs": [],
   "source": [
    "def my_sum(a,b,*c):\n",
    "    return a+b+sum(c)"
   ]
  },
  {
   "cell_type": "code",
   "execution_count": 8,
   "id": "8c836253",
   "metadata": {},
   "outputs": [
    {
     "data": {
      "text/plain": [
       "31"
      ]
     },
     "execution_count": 8,
     "metadata": {},
     "output_type": "execute_result"
    }
   ],
   "source": [
    "my_sum(3,5,6,5,6,6)"
   ]
  },
  {
   "cell_type": "code",
   "execution_count": 9,
   "id": "587a4466",
   "metadata": {},
   "outputs": [],
   "source": [
    "def display_winner(winner = \"ashar\", score = \"1-0\", **others):\n",
    "    print(f\"\"\"\n",
    "The winner is {winner}.\n",
    "And his score is {score}.\n",
    "    \"\"\")\n",
    "    for i,v in others.items():\n",
    "        print(i +\" : \"+ v)"
   ]
  },
  {
   "cell_type": "code",
   "execution_count": 10,
   "id": "08c19e53",
   "metadata": {},
   "outputs": [
    {
     "name": "stdout",
     "output_type": "stream",
     "text": [
      "\n",
      "The winner is waseem.\n",
      "And his score is 2-0.\n",
      "    \n",
      "overtime : yes\n",
      "injury : none\n",
      "match : no\n",
      "None\n"
     ]
    }
   ],
   "source": [
    "print(display_winner(winner = \"waseem\", score = \"2-0\", overtime = \"yes\", injury = \"none\", match = \"no\"))"
   ]
  },
  {
   "cell_type": "code",
   "execution_count": 11,
   "id": "dfa66720",
   "metadata": {},
   "outputs": [
    {
     "name": "stdout",
     "output_type": "stream",
     "text": [
      "2\n"
     ]
    }
   ],
   "source": [
    "a = 2\n",
    "def num():\n",
    "    print(a)\n",
    "\n",
    "num()"
   ]
  },
  {
   "cell_type": "code",
   "execution_count": 12,
   "id": "0493db51",
   "metadata": {},
   "outputs": [
    {
     "name": "stdout",
     "output_type": "stream",
     "text": [
      "2\n",
      "1\n"
     ]
    }
   ],
   "source": [
    "def whatever():\n",
    "    y = 2\n",
    "    print(y)\n",
    "y = 1\n",
    "whatever()\n",
    "print(y)"
   ]
  },
  {
   "cell_type": "code",
   "execution_count": 13,
   "id": "cc5f2994",
   "metadata": {},
   "outputs": [
    {
     "name": "stdout",
     "output_type": "stream",
     "text": [
      "0\n",
      "1\n",
      "2\n",
      "3\n",
      "4\n",
      "5\n",
      "6\n",
      "7\n",
      "8\n",
      "9\n"
     ]
    }
   ],
   "source": [
    "count = 0\n",
    "while count<10:\n",
    "    print(count)\n",
    "    count += 1\n"
   ]
  },
  {
   "cell_type": "code",
   "execution_count": 14,
   "id": "e588bbf2",
   "metadata": {},
   "outputs": [
    {
     "name": "stdout",
     "output_type": "stream",
     "text": [
      "65 A\n",
      "66 B\n",
      "67 C\n",
      "68 D\n",
      "69 E\n",
      "70 F\n",
      "71 G\n",
      "72 H\n",
      "73 I\n",
      "74 J\n",
      "75 K\n",
      "76 L\n",
      "77 M\n",
      "78 N\n",
      "79 O\n",
      "80 P\n",
      "81 Q\n",
      "82 R\n",
      "83 S\n",
      "84 T\n",
      "85 U\n",
      "86 V\n",
      "87 W\n",
      "88 X\n",
      "89 Y\n"
     ]
    }
   ],
   "source": [
    "count = 65\n",
    "while count<90:\n",
    "    print(count, chr(count))\n",
    "    count += 1"
   ]
  },
  {
   "cell_type": "code",
   "execution_count": 16,
   "id": "1e36efbb",
   "metadata": {},
   "outputs": [
    {
     "data": {
      "text/plain": [
       "['A',\n",
       " 'B',\n",
       " 'C',\n",
       " 'D',\n",
       " 'E',\n",
       " 'F',\n",
       " 'G',\n",
       " 'H',\n",
       " 'I',\n",
       " 'J',\n",
       " 'K',\n",
       " 'L',\n",
       " 'M',\n",
       " 'N',\n",
       " 'O',\n",
       " 'P',\n",
       " 'Q',\n",
       " 'R',\n",
       " 'S',\n",
       " 'T',\n",
       " 'U',\n",
       " 'V',\n",
       " 'W',\n",
       " 'X',\n",
       " 'Y']"
      ]
     },
     "execution_count": 16,
     "metadata": {},
     "output_type": "execute_result"
    }
   ],
   "source": [
    "[chr(i) for i in range(65,90)]"
   ]
  },
  {
   "cell_type": "code",
   "execution_count": 17,
   "id": "5048302d",
   "metadata": {},
   "outputs": [
    {
     "name": "stdout",
     "output_type": "stream",
     "text": [
      "Enter your citymlt\n",
      "Found\n",
      "Not Found\n",
      "Not Found\n"
     ]
    }
   ],
   "source": [
    "cities = [\"MLT\",\"SKR\",\"HYD\"]\n",
    "check = input(\"Enter your city\")\n",
    "\n",
    "for i in cities:\n",
    "    if check.upper() == i:\n",
    "        print(\"Found\")\n",
    "    else:\n",
    "        print(\"Not Found\")"
   ]
  },
  {
   "cell_type": "code",
   "execution_count": 18,
   "id": "7341a087",
   "metadata": {},
   "outputs": [
    {
     "name": "stdout",
     "output_type": "stream",
     "text": [
      "Enter your citymlt\n",
      "Found\n",
      "MLT\n",
      "Found\n",
      "MLT\n"
     ]
    }
   ],
   "source": [
    "cities = [\"MLT\",\"SKR\",\"HYD\",\"MLT\"]\n",
    "check = input(\"Enter your city\")\n",
    "\n",
    "for i in cities:\n",
    "    if check.upper() == i:\n",
    "        print(\"Found\")\n",
    "        print(i)"
   ]
  },
  {
   "cell_type": "code",
   "execution_count": 20,
   "id": "24367c9e",
   "metadata": {},
   "outputs": [
    {
     "name": "stdout",
     "output_type": "stream",
     "text": [
      "Enter your citymlt\n",
      "Found\n"
     ]
    }
   ],
   "source": [
    "cities = [\"MLT\",\"SKR\",\"HYD\",\"MLT\"]\n",
    "check = input(\"Enter your city\")\n",
    "\n",
    "for i in cities:\n",
    "    if check.upper() == i:\n",
    "        print(\"Found\")\n",
    "        break"
   ]
  },
  {
   "cell_type": "code",
   "execution_count": 21,
   "id": "239f9a60",
   "metadata": {},
   "outputs": [
    {
     "name": "stdout",
     "output_type": "stream",
     "text": [
      "Enter your citymlt\n",
      "Found\n",
      "Enter your citymlt\n",
      "Found\n",
      "Enter your cityskr\n",
      "Found\n",
      "Enter your cityfg\n",
      "Enter your cityq\n"
     ]
    }
   ],
   "source": [
    "cities = [\"MLT\",\"SKR\",\"HYD\",\"MLT\"]\n",
    "\n",
    "\n",
    "check = \"\"\n",
    "while check != \"q\":\n",
    "    check = input(\"Enter your city\")\n",
    "    if check != \"q\":\n",
    "        for i in cities:\n",
    "            if check.upper() == i:\n",
    "                print(\"Found\")\n",
    "                break\n",
    "            "
   ]
  },
  {
   "cell_type": "code",
   "execution_count": 22,
   "id": "51ff09a0",
   "metadata": {},
   "outputs": [
    {
     "name": "stdout",
     "output_type": "stream",
     "text": [
      "Faheem is being verified \n",
      "DONE\n",
      "Waseem is being verified \n",
      "DONE\n",
      "Mubeen is being verified \n",
      "DONE\n",
      "\n",
      "DONE List is as follows\n",
      "Faheem\n",
      "Waseem\n",
      "Mubeen\n"
     ]
    }
   ],
   "source": [
    "list1 = [\"faheem\", \"waseem\", \"mubeen\"]\n",
    "list2 = []\n",
    "\n",
    "while list1:\n",
    "    current = list1.pop(0)\n",
    "    \n",
    "    print(f\"{current.title()} is being verified \\nDONE\")\n",
    "    list2.append(current)\n",
    "\n",
    "print(\"\\nDONE List is as follows\")\n",
    "for i in list2:\n",
    "    print(i.title())\n",
    "    \n",
    "    \n"
   ]
  },
  {
   "cell_type": "code",
   "execution_count": 4,
   "id": "8e265f7e",
   "metadata": {},
   "outputs": [
    {
     "name": "stdout",
     "output_type": "stream",
     "text": [
      "Whats Your namewaseem\n",
      "Whats Your NTN63101\n",
      "Want to Quit? Y/Nfaheem\n",
      "Whats Your namefaheem\n",
      "Whats Your NTN254101\n",
      "Want to Quit? Y/Ny\n",
      "{'waseem': '63101', 'faheem': '254101'}\n"
     ]
    }
   ],
   "source": [
    "res = {}\n",
    "\n",
    "loop = True\n",
    "\n",
    "while loop:\n",
    "    name = input(\"Whats Your name\")\n",
    "    ntn = input(\"Whats Your NTN\")\n",
    "    res[name] = ntn\n",
    "    qt = input(\"Want to Quit? Y/N\")\n",
    "    if qt == \"Y\" or qt == \"y\":\n",
    "        loop = False\n",
    "print(res)\n",
    "    "
   ]
  },
  {
   "cell_type": "code",
   "execution_count": 5,
   "id": "978b8cd9",
   "metadata": {},
   "outputs": [
    {
     "name": "stdout",
     "output_type": "stream",
     "text": [
      "Whats Your namewaseem\n",
      "Whats Your NTN63101\n",
      "Want to Quit? Y/Nn\n",
      "Whats Your nameFaheem\n",
      "Whats Your NTN45101\n",
      "Want to Quit? Y/Ny\n",
      "{'waseem': '63101', 'Faheem': '45101'}\n"
     ]
    }
   ],
   "source": [
    "res = {}\n",
    "\n",
    "loop = True\n",
    "\n",
    "while loop:\n",
    "    name = input(\"Whats Your name\")\n",
    "    ntn = input(\"Whats Your NTN\")\n",
    "    res[name] = ntn\n",
    "    qt = input(\"Want to Quit? Y/N\")\n",
    "    if qt == \"Y\" or qt == \"y\":\n",
    "        break\n",
    "print(res)"
   ]
  },
  {
   "cell_type": "code",
   "execution_count": 6,
   "id": "b36feb60",
   "metadata": {},
   "outputs": [],
   "source": [
    "def formated_name(first_name, last_name, midle_name = \"\"):\n",
    "    if midle_name:\n",
    "        print(first_name.title() + \" \" + midle_name.title() + \" \" + last_name.title())\n",
    "    else:\n",
    "        print(first_name.title() + \" \" + last_name.title())"
   ]
  },
  {
   "cell_type": "code",
   "execution_count": 8,
   "id": "3c445f04",
   "metadata": {},
   "outputs": [
    {
     "name": "stdout",
     "output_type": "stream",
     "text": [
      "Muhammad Waseem Ashar\n"
     ]
    }
   ],
   "source": [
    "formated_name(\"muhammad\",\"ashar\",\"waseem\")"
   ]
  },
  {
   "cell_type": "code",
   "execution_count": 9,
   "id": "853dae8c",
   "metadata": {},
   "outputs": [
    {
     "name": "stdout",
     "output_type": "stream",
     "text": [
      "Muhammad Ashar\n"
     ]
    }
   ],
   "source": [
    "formated_name(\"muhammad\",\"ashar\")"
   ]
  },
  {
   "cell_type": "code",
   "execution_count": 2,
   "id": "8303ca5f",
   "metadata": {},
   "outputs": [
    {
     "data": {
      "text/plain": [
       "('me', 'we', 'us')"
      ]
     },
     "execution_count": 2,
     "metadata": {},
     "output_type": "execute_result"
    }
   ],
   "source": [
    "def toppings(*arg):\n",
    "    return arg\n",
    "    \n",
    "toppings(\"me\",\"we\",\"us\")"
   ]
  },
  {
   "cell_type": "code",
   "execution_count": 7,
   "id": "b4e2dd39",
   "metadata": {},
   "outputs": [
    {
     "name": "stdout",
     "output_type": "stream",
     "text": [
      "\n",
      "These are mnain mr\n",
      "These are other cr\n",
      "these are sup   nm\n"
     ]
    }
   ],
   "source": [
    "def fun(a,b,c):\n",
    "    print(f\"\"\"\n",
    "These are mnain {a}\n",
    "These are other {b}\n",
    "these are sup   {c}\"\"\")\n",
    "    \n",
    "fun(a=\"mr\",b=\"cr\",c=\"nm\")"
   ]
  },
  {
   "cell_type": "code",
   "execution_count": 1,
   "id": "31bacf1a",
   "metadata": {},
   "outputs": [
    {
     "data": {
      "text/plain": [
       "['D',\n",
       " 'E',\n",
       " 'F',\n",
       " 'G',\n",
       " 'H',\n",
       " 'I',\n",
       " 'J',\n",
       " 'K',\n",
       " 'L',\n",
       " 'M',\n",
       " 'N',\n",
       " 'O',\n",
       " 'P',\n",
       " 'Q',\n",
       " 'R',\n",
       " 'S',\n",
       " 'T',\n",
       " 'U',\n",
       " 'V',\n",
       " 'W',\n",
       " 'X',\n",
       " 'Y']"
      ]
     },
     "execution_count": 1,
     "metadata": {},
     "output_type": "execute_result"
    }
   ],
   "source": [
    "[chr(i) for i in range(68,90)]"
   ]
  },
  {
   "cell_type": "code",
   "execution_count": null,
   "id": "3342c866",
   "metadata": {},
   "outputs": [],
   "source": []
  },
  {
   "cell_type": "code",
   "execution_count": null,
   "id": "0a10bc22",
   "metadata": {},
   "outputs": [],
   "source": []
  },
  {
   "cell_type": "code",
   "execution_count": null,
   "id": "89d71a43",
   "metadata": {},
   "outputs": [],
   "source": []
  }
 ],
 "metadata": {
  "kernelspec": {
   "display_name": "Python 3 (ipykernel)",
   "language": "python",
   "name": "python3"
  },
  "language_info": {
   "codemirror_mode": {
    "name": "ipython",
    "version": 3
   },
   "file_extension": ".py",
   "mimetype": "text/x-python",
   "name": "python",
   "nbconvert_exporter": "python",
   "pygments_lexer": "ipython3",
   "version": "3.9.12"
  }
 },
 "nbformat": 4,
 "nbformat_minor": 5
}
