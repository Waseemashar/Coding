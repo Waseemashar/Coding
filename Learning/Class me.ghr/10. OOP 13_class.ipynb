{
 "cells": [
  {
   "cell_type": "markdown",
   "metadata": {},
   "source": [
    "# OOP\n",
    "* object\n",
    "    * everything in the world which has name that is called object\n",
    "        * Methods (function, procedure, sub routine)\n",
    "            * performe any action\n",
    "                * must be change some attribute\n",
    "                * or return something\n",
    "        * Attributes (properties, fields, characterstics)\n",
    "            * store some values for perticular time\n",
    " \n",
    " # Class\n",
    " * Blue print\n",
    " * Capitalize each word (ClassName)\n",
    " * constructor (Method)\n",
    "     * always call when we create new object\n"
   ]
  },
  {
   "cell_type": "markdown",
   "metadata": {},
   "source": [
    "## Linear programming"
   ]
  },
  {
   "cell_type": "code",
   "execution_count": 1,
   "metadata": {},
   "outputs": [],
   "source": [
    "qasim_name = \"Muhammad qasim\"\n",
    "qasim_fname= \"Muhammad Aslam\"\n",
    "qasim_education = \"MSDS\"\n",
    "\n",
    "def qasim_speak():pass\n",
    "def qasim_eat():pass\n",
    "def qasim_sleep():pass\n",
    "\n",
    "\n",
    "\n",
    "asim_name = \"Muhammad Asim\"\n",
    "asim_fname= \"Muhammad Aslam\"\n",
    "asim_education = \"MSDS\"\n",
    "\n",
    "def asim_speak():pass\n",
    "def asim_eat():pass\n",
    "def asim_sleep():pass\n",
    "\n",
    "\n",
    "asif_name = \"Muhammad Asif\"\n",
    "asif_fname= \"Muhammad Aslam\"\n",
    "asif_education = \"MSDS\"\n",
    "\n",
    "def asif_speak():pass\n",
    "def asif_eat():pass\n",
    "def asif_sleep():pass"
   ]
  },
  {
   "cell_type": "markdown",
   "metadata": {},
   "source": [
    "# OOP\n",
    "* compress code\n",
    "* less computing power/ less storage consume\n",
    "* code management too much simple"
   ]
  },
  {
   "cell_type": "markdown",
   "metadata": {},
   "source": [
    "# Class\n",
    " * Blue print/model/structe/template\n",
    " * Capitalize each word (ClassName) `class Class():pass`\n",
    " * constructor (Method)\n",
    "     * always call when we create new object\n",
    "     * old programming lanugages \n",
    "         * same function name as class\n",
    "     * Python\n",
    "         * `def __init__(self):`\n",
    "         * first argument:\n",
    "             * first argument should be any name\n",
    "                 * always keep this during creating time\n",
    "                 * but always ingore during calling\n",
    "                 * always manage each object with individual memory blocks\n",
    "                 * self\n",
    "                 * this\n",
    "                 * abc\n",
    "                 * xyz\n",
    "         * all attribute should be write in constructor body\n",
    "             * `self.attribute_name` (within a class)\n",
    "             \n",
    " * destructor (method)\n",
    "     * always call when we delete object\n",
    "     \n",
    "\n",
    " * Method\n",
    "     * `def method_name(self,arg1,arg2,..):pass`\n",
    "     * calling time `method_name(arg1,arg2)`\n",
    "         * always ignore self\n",
    "     * object action performed \n",
    "         * always return something or change some attribute value\n",
    " * Attribute\n",
    " * class variable"
   ]
  },
  {
   "cell_type": "markdown",
   "metadata": {},
   "source": [
    "# MarkDown\n",
    "https://github.com/adam-p/markdown-here/wiki/Markdown-Cheatsheet"
   ]
  },
  {
   "cell_type": "code",
   "execution_count": 4,
   "metadata": {},
   "outputs": [],
   "source": [
    "class Student(): # class\n",
    "    def __init__(self, sid, sname): # constructor method\n",
    "        #self.attribute_name = constructor_local_variable\n",
    "        self.id = sid \n",
    "        self.name = sname # attribute\n",
    "        self.education = None # attribute\n",
    "        self.address = None # attribute\n",
    "        self.age = None # attribute\n",
    "        self.user = sname\n",
    "        self.password = \"123\"\n",
    "    \n",
    "    def login(self,user,pws): # Method\n",
    "        if self.user == user and self.password == pws:\n",
    "            return \"Valid User\"\n",
    "        else:\n",
    "            return \"Not Valid user\"\n",
    "        \n",
    "    def display_information(self): # method\n",
    "        cards = f\"\"\"\n",
    "        PIAIC Student Card\n",
    "        Registration No: {self.id}\n",
    "        Name: {self.name}\n",
    "        Education : {self.education}\n",
    "        \"\"\"\n",
    "        \n",
    "        return cards\n"
   ]
  },
  {
   "cell_type": "code",
   "execution_count": 7,
   "metadata": {},
   "outputs": [],
   "source": [
    "# ClassName(arg1,arg2,..) we ignore slef argument calling time\n",
    "\n",
    "s1 = Student(1,\"Muhammad Qasim\") # create s1 new object\n",
    "s2 = Student(2,\"Asim\")# create s2 new object\n",
    "s3 = Student(3,\"Asif Khan\")# create s3 new object\n",
    "s4 = Student(4,\"Konain\")\n",
    "s5 = Student(5,\"Kamran\")"
   ]
  },
  {
   "cell_type": "code",
   "execution_count": 8,
   "metadata": {},
   "outputs": [
    {
     "name": "stdout",
     "output_type": "stream",
     "text": [
      "Muhammad Qasim 1\n",
      "Asim 2\n",
      "Asif Khan 3\n",
      "Kamran 5\n"
     ]
    }
   ],
   "source": [
    "print(s1.name, s1.id) # call attributes values\n",
    "print(s2.name, s2.id) # object_name.attribute\n",
    "print(s3.name, s3.id)\n",
    "print(s5.name, s5.id)"
   ]
  },
  {
   "cell_type": "code",
   "execution_count": 12,
   "metadata": {},
   "outputs": [
    {
     "data": {
      "text/plain": [
       "'Valid User'"
      ]
     },
     "execution_count": 12,
     "metadata": {},
     "output_type": "execute_result"
    }
   ],
   "source": [
    "s1.login(\"Muhammad Qasim\",\"123\")# call object methods\n",
    "#           object_name.method_name()"
   ]
  },
  {
   "cell_type": "code",
   "execution_count": 15,
   "metadata": {},
   "outputs": [
    {
     "data": {
      "text/plain": [
       "'Not Valid user'"
      ]
     },
     "execution_count": 15,
     "metadata": {},
     "output_type": "execute_result"
    }
   ],
   "source": [
    "s1.login(\"Asim\",\"12345\")"
   ]
  },
  {
   "cell_type": "code",
   "execution_count": 16,
   "metadata": {},
   "outputs": [
    {
     "data": {
      "text/plain": [
       "'Valid User'"
      ]
     },
     "execution_count": 16,
     "metadata": {},
     "output_type": "execute_result"
    }
   ],
   "source": [
    "s2.login(\"Asim\",\"123\")"
   ]
  },
  {
   "cell_type": "code",
   "execution_count": 17,
   "metadata": {},
   "outputs": [
    {
     "data": {
      "text/plain": [
       "'Not Valid user'"
      ]
     },
     "execution_count": 17,
     "metadata": {},
     "output_type": "execute_result"
    }
   ],
   "source": [
    "s2.login(\"Asim\",\"1222223\")"
   ]
  },
  {
   "cell_type": "code",
   "execution_count": 19,
   "metadata": {},
   "outputs": [
    {
     "name": "stdout",
     "output_type": "stream",
     "text": [
      "\n",
      "        PIAIC Student Card\n",
      "        Registration No: 1\n",
      "        Name: Muhammad Qasim\n",
      "        Education : None\n",
      "        \n"
     ]
    }
   ],
   "source": [
    "print(s1.display_information())"
   ]
  },
  {
   "cell_type": "code",
   "execution_count": 20,
   "metadata": {},
   "outputs": [],
   "source": [
    "s1.education = \"MSDS\""
   ]
  },
  {
   "cell_type": "code",
   "execution_count": 21,
   "metadata": {},
   "outputs": [
    {
     "name": "stdout",
     "output_type": "stream",
     "text": [
      "\n",
      "        PIAIC Student Card\n",
      "        Registration No: 1\n",
      "        Name: Muhammad Qasim\n",
      "        Education : MSDS\n",
      "        \n"
     ]
    }
   ],
   "source": [
    "print(s1.display_information())"
   ]
  },
  {
   "cell_type": "code",
   "execution_count": null,
   "metadata": {},
   "outputs": [],
   "source": []
  },
  {
   "cell_type": "code",
   "execution_count": 30,
   "metadata": {},
   "outputs": [
    {
     "name": "stdout",
     "output_type": "stream",
     "text": [
      "['address', 'age', 'education', 'id', 'login', 'name', 'password', 'user']\n",
      "['address', 'age', 'education', 'id', 'login', 'name', 'password', 'user']\n",
      "['address', 'age', 'education', 'id', 'login', 'name', 'password', 'user']\n",
      "['address', 'age', 'education', 'id', 'login', 'name', 'password', 'user']\n",
      "['address', 'age', 'education', 'id', 'login', 'name', 'password', 'user']\n"
     ]
    }
   ],
   "source": [
    "print([i for i in dir(s1) if \"_\" not in i])\n",
    "print([i for i in dir(s2) if \"_\" not in i])\n",
    "print([i for i in dir(s3) if \"_\" not in i])\n",
    "print([i for i in dir(s4) if \"_\" not in i])\n",
    "print([i for i in dir(s5) if \"_\" not in i])"
   ]
  },
  {
   "cell_type": "code",
   "execution_count": 31,
   "metadata": {},
   "outputs": [],
   "source": [
    "s1.password = \"abc123\""
   ]
  },
  {
   "cell_type": "code",
   "execution_count": 32,
   "metadata": {},
   "outputs": [
    {
     "name": "stdout",
     "output_type": "stream",
     "text": [
      "abc123\n"
     ]
    }
   ],
   "source": [
    "print(s1.password)"
   ]
  },
  {
   "cell_type": "markdown",
   "metadata": {},
   "source": [
    "# Class Variable\n",
    "* always create in class body\n",
    "* calling `ClassName.variable_name`\n",
    "* always same value value"
   ]
  },
  {
   "cell_type": "code",
   "execution_count": 72,
   "metadata": {},
   "outputs": [],
   "source": [
    "class Student(): # class\n",
    "    \n",
    "    counter = 0 # class variable\n",
    "    subject = \"Artificial Intelligence\"# class variable\n",
    "    time = \"11:19 am\"# class variable\n",
    "    \n",
    "    def __init__(self, sid, sname): # constructor method\n",
    "        #self.attribute_name = constructor_local_variable\n",
    "        self.id = sid \n",
    "        self.name = sname # attribute\n",
    "        self.education = None # attribute\n",
    "        self.address = None # attribute\n",
    "        self.age = None # attribute\n",
    "        self.user = sname\n",
    "        self.password = \"123\"\n",
    "        Student.counter += 1 # calling class variable\n",
    "    \n",
    "    def login(self,user,pws): # Method\n",
    "        if self.user == user and self.password == pws:\n",
    "            return \"Valid User\"\n",
    "        else:\n",
    "            return \"Not Valid user\"\n",
    "        \n",
    "    def display_information(self): # method\n",
    "        cards = f\"\"\"\n",
    "        PIAIC Student Card\n",
    "        Registration No: {self.id}\n",
    "        Name: {self.name}\n",
    "        Education : {self.education}\n",
    "        \"\"\"\n",
    "        \n",
    "        return cards\n"
   ]
  },
  {
   "cell_type": "code",
   "execution_count": 73,
   "metadata": {},
   "outputs": [
    {
     "name": "stdout",
     "output_type": "stream",
     "text": [
      "1 1 Artificial Intelligence\n",
      "2 2 Artificial Intelligence\n",
      "3 3 Artificial Intelligence\n",
      "4 4 Artificial Intelligence\n",
      "5 5 Artificial Intelligence\n"
     ]
    }
   ],
   "source": [
    "s1 = Student(1,\"Muhammad Qasim\") # create s1 new object\n",
    "print(Student.counter, s1.counter, Student.subject)\n",
    "s2 = Student(2,\"Asim\")# create s2 new object\n",
    "print(Student.counter, s1.counter, Student.subject)\n",
    "s3 = Student(3,\"Asif Khan\")# create s3 new object\n",
    "print(Student.counter, s1.counter, Student.subject)\n",
    "s4 = Student(4,\"Konain\")\n",
    "print(Student.counter, s1.counter, Student.subject)\n",
    "s5 = Student(5,\"Kamran\")\n",
    "print(Student.counter, s1.counter, Student.subject)"
   ]
  },
  {
   "cell_type": "code",
   "execution_count": 74,
   "metadata": {},
   "outputs": [
    {
     "name": "stdout",
     "output_type": "stream",
     "text": [
      "11:19 am\n",
      "11:19 am\n",
      "11:19 am\n",
      "11:19 am\n",
      "11:19 am\n",
      "5\n",
      "Artificial Intelligence\n",
      "11:19 am\n"
     ]
    }
   ],
   "source": [
    "print(s1.time)\n",
    "print(s2.time)\n",
    "print(s3.time)\n",
    "print(s4.time)\n",
    "print(s5.time)\n",
    "\n",
    "print(Student.counter)\n",
    "print(Student.subject)\n",
    "print(Student.time)"
   ]
  },
  {
   "cell_type": "markdown",
   "metadata": {},
   "source": [
    "# Class13 02 Oct 2022\n",
    "## Inheritance"
   ]
  },
  {
   "cell_type": "raw",
   "metadata": {},
   "source": [
    "https://peps.python.org/pep-0008/"
   ]
  },
  {
   "cell_type": "code",
   "execution_count": 6,
   "metadata": {},
   "outputs": [],
   "source": [
    "class Parent():\n",
    "    def __init__(self):\n",
    "        self.id = None\n",
    "        self.name = None\n",
    "        self.fname = None\n",
    "        \n",
    "    def eat(self,food):\n",
    "        return f\"{self.name} is eating {food}\"\n",
    "    \n",
    "    def speak(self, words, language=\"Urdu\"):\n",
    "        return f\"{words}. language = {language}\"\n",
    "\n",
    "class Child(Parent):\n",
    "    pass"
   ]
  },
  {
   "cell_type": "code",
   "execution_count": 7,
   "metadata": {},
   "outputs": [
    {
     "name": "stdout",
     "output_type": "stream",
     "text": [
      "Muhammad Qasim\n",
      "1\n",
      "Muhammad Aslam\n",
      "Muhammad Qasim is eating Pizza\n",
      "Pakistan zinda Bad!. language = Urdu\n"
     ]
    }
   ],
   "source": [
    "p1 = Parent()\n",
    "p1.id = 1\n",
    "p1.name = \"Muhammad Qasim\"\n",
    "p1.fname = \"Muhammad Aslam\"\n",
    "\n",
    "print(p1.name)\n",
    "print(p1.id)\n",
    "print(p1.fname)\n",
    "print(p1.eat(\"Pizza\"))\n",
    "print(p1.speak(\"Pakistan zinda Bad!\"))"
   ]
  },
  {
   "cell_type": "code",
   "execution_count": 8,
   "metadata": {},
   "outputs": [
    {
     "name": "stdout",
     "output_type": "stream",
     "text": [
      "Ahtisham\n",
      "1\n",
      "Muhammad Qasim\n",
      "Ahtisham is eating Pizza\n"
     ]
    }
   ],
   "source": [
    "c1 = Child() # child class intance (object)\n",
    "c1.id = 1\n",
    "c1.name = \"Ahtisham\"\n",
    "c1.fname = \"Muhammad Qasim\"\n",
    "\n",
    "print(c1.name)\n",
    "print(c1.id)\n",
    "print(c1.fname)\n",
    "print(c1.eat(\"Pizza\"))"
   ]
  },
  {
   "cell_type": "markdown",
   "metadata": {},
   "source": [
    "### Inheritance example2\n",
    "* add some new methods in Child class"
   ]
  },
  {
   "cell_type": "code",
   "execution_count": 9,
   "metadata": {},
   "outputs": [],
   "source": [
    "class Parent():\n",
    "    def __init__(self):\n",
    "        self.id = None\n",
    "        self.name = None\n",
    "        self.fname = None\n",
    "        \n",
    "    def eat(self,food):\n",
    "        return f\"{self.name} is eating {food}\"\n",
    "    \n",
    "    def speak(self, words, language=\"Urdu\"):\n",
    "        return f\"{words}. language = {language}\"\n",
    "\n",
    "class Child(Parent):\n",
    "    def walk(self, distance):\n",
    "        return f\"{self.name} has covered {distance}\"\n",
    "    \n",
    "    def play(self, game):\n",
    "        return f\"{self.name} is playing {game}\""
   ]
  },
  {
   "cell_type": "code",
   "execution_count": 13,
   "metadata": {},
   "outputs": [
    {
     "name": "stdout",
     "output_type": "stream",
     "text": [
      "['eat', 'fname', 'id', 'name', 'speak']\n"
     ]
    }
   ],
   "source": [
    "p1 = Parent()\n",
    "\n",
    "print([i for i in dir(p1) if '_' not in i])# methods and attributes"
   ]
  },
  {
   "cell_type": "code",
   "execution_count": 14,
   "metadata": {},
   "outputs": [
    {
     "name": "stdout",
     "output_type": "stream",
     "text": [
      "['eat', 'fname', 'id', 'name', 'play', 'speak', 'walk']\n"
     ]
    }
   ],
   "source": [
    "c1 = Child()\n",
    "\n",
    "print([i for i in dir(c1) if '_' not in i])# methods and attributes"
   ]
  },
  {
   "cell_type": "code",
   "execution_count": 15,
   "metadata": {},
   "outputs": [
    {
     "name": "stdout",
     "output_type": "stream",
     "text": [
      "Muhammad Qasim\n",
      "1\n",
      "Muhammad Aslam\n",
      "Muhammad Qasim is eating Pizza\n",
      "Pakistan zinda Bad!. language = Urdu\n"
     ]
    }
   ],
   "source": [
    "p1 = Parent()\n",
    "p1.id = 1\n",
    "p1.name = \"Muhammad Qasim\"\n",
    "p1.fname = \"Muhammad Aslam\"\n",
    "\n",
    "print(p1.name)\n",
    "print(p1.id)\n",
    "print(p1.fname)\n",
    "print(p1.eat(\"Pizza\"))\n",
    "print(p1.speak(\"Pakistan zinda Bad!\"))"
   ]
  },
  {
   "cell_type": "code",
   "execution_count": 17,
   "metadata": {},
   "outputs": [
    {
     "ename": "AttributeError",
     "evalue": "'Parent' object has no attribute 'play'",
     "output_type": "error",
     "traceback": [
      "\u001b[0;31m----------------------------------------------------------------------\u001b[0m",
      "\u001b[0;31mAttributeError\u001b[0m                       Traceback (most recent call last)",
      "\u001b[0;32m<ipython-input-17-6871b4e1d9e8>\u001b[0m in \u001b[0;36m<module>\u001b[0;34m\u001b[0m\n\u001b[0;32m----> 1\u001b[0;31m \u001b[0mp1\u001b[0m\u001b[0;34m.\u001b[0m\u001b[0mplay\u001b[0m\u001b[0;34m(\u001b[0m\u001b[0;34m\"cricket\"\u001b[0m\u001b[0;34m)\u001b[0m\u001b[0;34m\u001b[0m\u001b[0;34m\u001b[0m\u001b[0m\n\u001b[0m",
      "\u001b[0;31mAttributeError\u001b[0m: 'Parent' object has no attribute 'play'"
     ]
    }
   ],
   "source": [
    "p1.play(\"cricket\")"
   ]
  },
  {
   "cell_type": "code",
   "execution_count": 16,
   "metadata": {},
   "outputs": [
    {
     "name": "stdout",
     "output_type": "stream",
     "text": [
      "Ahtisham\n",
      "1\n",
      "Muhammad Qasim\n",
      "Ahtisham is eating Pizza\n"
     ]
    }
   ],
   "source": [
    "c1 = Child() # child class intance (object)\n",
    "c1.id = 1\n",
    "c1.name = \"Ahtisham\"\n",
    "c1.fname = \"Muhammad Qasim\"\n",
    "\n",
    "print(c1.name)\n",
    "print(c1.id)\n",
    "print(c1.fname)\n",
    "print(c1.eat(\"Pizza\"))"
   ]
  },
  {
   "cell_type": "code",
   "execution_count": 18,
   "metadata": {},
   "outputs": [
    {
     "data": {
      "text/plain": [
       "'Ahtisham is playing Cricket'"
      ]
     },
     "execution_count": 18,
     "metadata": {},
     "output_type": "execute_result"
    }
   ],
   "source": [
    "c1.play(\"Cricket\")"
   ]
  },
  {
   "cell_type": "code",
   "execution_count": 19,
   "metadata": {},
   "outputs": [
    {
     "data": {
      "text/plain": [
       "'Ahtisham has covered 3 KM'"
      ]
     },
     "execution_count": 19,
     "metadata": {},
     "output_type": "execute_result"
    }
   ],
   "source": [
    "c1.walk(\"3 KM\")"
   ]
  },
  {
   "cell_type": "markdown",
   "metadata": {},
   "source": [
    "### Inheritance example2\n",
    "* add some new <b>Attibute</b> in Child class\n",
    "* `super().parent_methods()"
   ]
  },
  {
   "cell_type": "code",
   "execution_count": 15,
   "metadata": {},
   "outputs": [
    {
     "ename": "AttributeError",
     "evalue": "'Child' object has no attribute 'id'",
     "output_type": "error",
     "traceback": [
      "\u001b[0;31m----------------------------------------------------------------------\u001b[0m",
      "\u001b[0;31mAttributeError\u001b[0m                       Traceback (most recent call last)",
      "\u001b[0;32m<ipython-input-15-61c59a9dcadd>\u001b[0m in \u001b[0;36m<module>\u001b[0;34m\u001b[0m\n\u001b[1;32m     17\u001b[0m \u001b[0;34m\u001b[0m\u001b[0m\n\u001b[1;32m     18\u001b[0m \u001b[0mc1\u001b[0m \u001b[0;34m=\u001b[0m \u001b[0mChild\u001b[0m\u001b[0;34m(\u001b[0m\u001b[0;34m)\u001b[0m\u001b[0;34m\u001b[0m\u001b[0;34m\u001b[0m\u001b[0m\n\u001b[0;32m---> 19\u001b[0;31m \u001b[0mprint\u001b[0m\u001b[0;34m(\u001b[0m\u001b[0mc1\u001b[0m\u001b[0;34m.\u001b[0m\u001b[0mid\u001b[0m\u001b[0;34m)\u001b[0m\u001b[0;34m\u001b[0m\u001b[0;34m\u001b[0m\u001b[0m\n\u001b[0m\u001b[1;32m     20\u001b[0m \u001b[0mprint\u001b[0m\u001b[0;34m(\u001b[0m\u001b[0mc1\u001b[0m\u001b[0;34m.\u001b[0m\u001b[0mname\u001b[0m\u001b[0;34m)\u001b[0m\u001b[0;34m\u001b[0m\u001b[0;34m\u001b[0m\u001b[0m\n\u001b[1;32m     21\u001b[0m \u001b[0mprint\u001b[0m\u001b[0;34m(\u001b[0m\u001b[0mc1\u001b[0m\u001b[0;34m.\u001b[0m\u001b[0mfname\u001b[0m\u001b[0;34m)\u001b[0m\u001b[0;34m\u001b[0m\u001b[0;34m\u001b[0m\u001b[0m\n",
      "\u001b[0;31mAttributeError\u001b[0m: 'Child' object has no attribute 'id'"
     ]
    }
   ],
   "source": [
    "class Parent():\n",
    "    def __init__(self):\n",
    "        self.id = None\n",
    "        self.name = None\n",
    "        self.fname = None\n",
    "        \n",
    "    def eat(self,food):\n",
    "        return f\"{self.name} is eating {food}\"\n",
    "    \n",
    "    def speak(self, words, language=\"Urdu\"):\n",
    "        return f\"{words}. language = {language}\"\n",
    "\n",
    "class Child(Parent):\n",
    "    def __init__(self):# Create new child constructor\n",
    "        self.education = None # addtional attribute\n",
    "        self.height = None # additional attribute\n",
    "    \n",
    "c1 = Child()\n",
    "print(c1.id)\n",
    "print(c1.name)\n",
    "print(c1.fname)\n"
   ]
  },
  {
   "cell_type": "code",
   "execution_count": 24,
   "metadata": {},
   "outputs": [],
   "source": [
    "class Parent():\n",
    "    def __init__(self):\n",
    "        self.id = None\n",
    "        self.name = None\n",
    "        self.fname = None\n",
    "        \n",
    "    def eat(self,food):\n",
    "        return f\"{self.name} is eating {food}\"\n",
    "    \n",
    "    def speak(self, words, language=\"Urdu\"):\n",
    "        return f\"{words}. language = {language}\"\n",
    "\n",
    "class Child(Parent):\n",
    "    def __init__(self):# Create new child constructor\n",
    "        super().__init__() # call parent attributes\n",
    "        self.education = None # addtional attribute\n",
    "        self.height = None # additional attribute\n",
    "        \n",
    "    def play(self,game):\n",
    "        return f'{self.name} is playing {game}'\n",
    "    \n",
    "\n"
   ]
  },
  {
   "cell_type": "code",
   "execution_count": null,
   "metadata": {},
   "outputs": [],
   "source": []
  },
  {
   "cell_type": "code",
   "execution_count": 25,
   "metadata": {},
   "outputs": [
    {
     "name": "stdout",
     "output_type": "stream",
     "text": [
      "['eat', 'fname', 'id', 'name', 'speak']\n"
     ]
    }
   ],
   "source": [
    "p1 = Parent()\n",
    "\n",
    "print([i for i in dir(p1) if '_' not in i])# methods and attributes"
   ]
  },
  {
   "cell_type": "code",
   "execution_count": 26,
   "metadata": {},
   "outputs": [
    {
     "name": "stdout",
     "output_type": "stream",
     "text": [
      "['eat', 'education', 'fname', 'height', 'id', 'name', 'play', 'speak']\n"
     ]
    }
   ],
   "source": [
    "c1 = Child()\n",
    "\n",
    "\n",
    "print([i for i in dir(c1) if '_' not in i])# methods and attributes"
   ]
  },
  {
   "cell_type": "code",
   "execution_count": 28,
   "metadata": {},
   "outputs": [],
   "source": [
    "c1.name = \"Ahtisham\""
   ]
  },
  {
   "cell_type": "code",
   "execution_count": 29,
   "metadata": {},
   "outputs": [
    {
     "data": {
      "text/plain": [
       "'Ahtisham is playing Cricket'"
      ]
     },
     "execution_count": 29,
     "metadata": {},
     "output_type": "execute_result"
    }
   ],
   "source": [
    "c1.play(\"Cricket\")"
   ]
  },
  {
   "cell_type": "code",
   "execution_count": 4,
   "metadata": {},
   "outputs": [
    {
     "name": "stdout",
     "output_type": "stream",
     "text": [
      "Muhammad Qasim\n"
     ]
    }
   ],
   "source": [
    "p1.name = \"Muhammad Qasim\"\n",
    "print(p1.name)\n"
   ]
  },
  {
   "cell_type": "code",
   "execution_count": 5,
   "metadata": {},
   "outputs": [
    {
     "ename": "AttributeError",
     "evalue": "'Parent' object has no attribute 'height'",
     "output_type": "error",
     "traceback": [
      "\u001b[0;31m----------------------------------------------------------------------\u001b[0m",
      "\u001b[0;31mAttributeError\u001b[0m                       Traceback (most recent call last)",
      "\u001b[0;32m<ipython-input-5-333bce72ea70>\u001b[0m in \u001b[0;36m<module>\u001b[0;34m\u001b[0m\n\u001b[0;32m----> 1\u001b[0;31m \u001b[0mp1\u001b[0m\u001b[0;34m.\u001b[0m\u001b[0mheight\u001b[0m\u001b[0;34m\u001b[0m\u001b[0;34m\u001b[0m\u001b[0m\n\u001b[0m",
      "\u001b[0;31mAttributeError\u001b[0m: 'Parent' object has no attribute 'height'"
     ]
    }
   ],
   "source": [
    "p1.height "
   ]
  },
  {
   "cell_type": "code",
   "execution_count": 11,
   "metadata": {},
   "outputs": [],
   "source": [
    "c1.education"
   ]
  },
  {
   "cell_type": "code",
   "execution_count": 12,
   "metadata": {},
   "outputs": [
    {
     "name": "stdout",
     "output_type": "stream",
     "text": [
      "MSDS\n"
     ]
    }
   ],
   "source": [
    "c1.education = \"MSDS\"\n",
    "print(c1.education)"
   ]
  },
  {
   "cell_type": "code",
   "execution_count": 13,
   "metadata": {},
   "outputs": [],
   "source": [
    "c1.height "
   ]
  },
  {
   "cell_type": "code",
   "execution_count": 14,
   "metadata": {},
   "outputs": [
    {
     "name": "stdout",
     "output_type": "stream",
     "text": [
      "7 feet\n"
     ]
    }
   ],
   "source": [
    "c1.height = \"7 feet\"\n",
    "print(c1.height)"
   ]
  },
  {
   "cell_type": "markdown",
   "metadata": {},
   "source": [
    "# Multi level Inheritance"
   ]
  },
  {
   "cell_type": "code",
   "execution_count": 44,
   "metadata": {},
   "outputs": [],
   "source": [
    "class Father():\n",
    "    def __init__(self,name):\n",
    "        self.name = name\n",
    "        self.fname = None\n",
    "        self.color = 'whitish'\n",
    "        self.hair_color = 'dark brown'\n",
    "        \n",
    "    def speak(self):\n",
    "        return \"Hahahah!\"\n",
    "    \n",
    "    \n",
    "class Mother():\n",
    "    def __init__(self):\n",
    "        self.height = '5.8 feet'\n",
    "        self.color = 'white'\n",
    "        \n",
    "    def slient(self):\n",
    "        return \"...\"\n",
    "    \n",
    "class Child(Father,Monther):\n",
    "    pass\n",
    "        "
   ]
  },
  {
   "cell_type": "code",
   "execution_count": 47,
   "metadata": {},
   "outputs": [
    {
     "name": "stdout",
     "output_type": "stream",
     "text": [
      "['color', 'fname', 'hair_color', 'name', 'slient', 'speak']\n"
     ]
    }
   ],
   "source": [
    "c1 = Child(\"Qasim\")\n",
    "print([i for i in dir(c1) if \"__\" not in i])"
   ]
  },
  {
   "cell_type": "code",
   "execution_count": 51,
   "metadata": {},
   "outputs": [
    {
     "name": "stdout",
     "output_type": "stream",
     "text": [
      "['color', 'height', 'slient', 'speak']\n"
     ]
    }
   ],
   "source": [
    "class Father():\n",
    "    def __init__(self):\n",
    "        self.name = None\n",
    "        self.fname = None\n",
    "        self.color = 'whitish'\n",
    "        self.hair_color = 'dark brown'\n",
    "        \n",
    "    def speak(self):\n",
    "        return \"Hahahah!\"\n",
    "    \n",
    "    \n",
    "class Mother():\n",
    "    def __init__(self):\n",
    "        self.height = '5.8 feet'\n",
    "        self.color = 'white'\n",
    "        \n",
    "    def slient(self):\n",
    "        return \"...\"\n",
    "    \n",
    "class Child(Mother,Father):\n",
    "    pass\n",
    "        \n",
    "c1 = Child()\n",
    "print([i for i in dir(c1) if \"__\" not in i])"
   ]
  },
  {
   "cell_type": "code",
   "execution_count": null,
   "metadata": {},
   "outputs": [],
   "source": [
    "1. import mother and father attribute\n",
    "2. add two new attributes in child constructor\n"
   ]
  },
  {
   "cell_type": "markdown",
   "metadata": {},
   "source": [
    "# Polymorphism\n",
    "if object behave multiple behaviours, with same method name or operator\n",
    "* Overloading\n",
    "    * within same class\n",
    "    * method name same but pass arguments with different data types or numbers of arguments veriation, pass 1 or many\n",
    "        * old programming syntax<br>\n",
    "        `def add(int num1, int num2): reutrn num1+num2`<br>\n",
    "        `def add(float num1, float num2): reutrn num1+num2`<br>\n",
    "        `def add(int num1, float num2): reutrn num1+num2`<br>\n",
    "        `def add(float num1, int num2): reutrn num1+num2`<br>\n",
    "        \n",
    "* Overriding\n",
    "    * with parent and child "
   ]
  },
  {
   "cell_type": "code",
   "execution_count": 65,
   "metadata": {},
   "outputs": [
    {
     "name": "stdout",
     "output_type": "stream",
     "text": [
      "5\n",
      "5.2\n",
      "5.8\n",
      "5.8\n",
      "10\n",
      "23\n"
     ]
    }
   ],
   "source": [
    "class MyMath():\n",
    "    def __init__(self):\n",
    "        pass\n",
    "    \n",
    "    def my_sum(self,*num):# overloading\n",
    "#         print(num)\n",
    "        return sum(num)\n",
    "\n",
    "    def __del__(self):\n",
    "        print(\"Pakistan zinda bad!\")\n",
    "    \n",
    "    \n",
    "m1 = MyMath()\n",
    "print(m1.my_sum(2,3))# two\n",
    "print(m1.my_sum(2.0,3.2))# two\n",
    "print(m1.my_sum(2,3.8))# two\n",
    "print(m1.my_sum(2.8,3))# two\n",
    "print(m1.my_sum(2,3,5))# three\n",
    "print(m1.my_sum(2,3,9,9))# four\n",
    "\n"
   ]
  },
  {
   "cell_type": "code",
   "execution_count": 66,
   "metadata": {},
   "outputs": [
    {
     "name": "stdout",
     "output_type": "stream",
     "text": [
      "Pakistan zinda bad!\n"
     ]
    }
   ],
   "source": [
    "del m1"
   ]
  },
  {
   "cell_type": "code",
   "execution_count": 67,
   "metadata": {},
   "outputs": [
    {
     "ename": "NameError",
     "evalue": "name 'm1' is not defined",
     "output_type": "error",
     "traceback": [
      "\u001b[0;31m----------------------------------------------------------------------\u001b[0m",
      "\u001b[0;31mNameError\u001b[0m                            Traceback (most recent call last)",
      "\u001b[0;32m<ipython-input-67-7b4f1e4c8b97>\u001b[0m in \u001b[0;36m<module>\u001b[0;34m\u001b[0m\n\u001b[0;32m----> 1\u001b[0;31m \u001b[0mm1\u001b[0m\u001b[0;34m\u001b[0m\u001b[0;34m\u001b[0m\u001b[0m\n\u001b[0m",
      "\u001b[0;31mNameError\u001b[0m: name 'm1' is not defined"
     ]
    }
   ],
   "source": [
    "m1"
   ]
  },
  {
   "cell_type": "markdown",
   "metadata": {},
   "source": [
    "# Overriding"
   ]
  },
  {
   "cell_type": "code",
   "execution_count": 68,
   "metadata": {},
   "outputs": [
    {
     "data": {
      "text/plain": [
       "'Pakistan!'"
      ]
     },
     "execution_count": 68,
     "metadata": {},
     "output_type": "execute_result"
    }
   ],
   "source": [
    "class Mother():\n",
    "    def speak(self):# parent method\n",
    "        return \"hahaha!\" # original line\n",
    "\n",
    "class Child(Mother):\n",
    "    def speak(self):# child method overriding\n",
    "        return \"Pakistan!\"# update line\n",
    "    class SubChild():\n",
    "        pass\n",
    "\n",
    "\n",
    "c1 = Child()\n",
    "c1.speak()"
   ]
  },
  {
   "cell_type": "code",
   "execution_count": 69,
   "metadata": {},
   "outputs": [
    {
     "data": {
      "text/plain": [
       "'hahaha!'"
      ]
     },
     "execution_count": 69,
     "metadata": {},
     "output_type": "execute_result"
    }
   ],
   "source": [
    "m1 = Mother()\n",
    "m1.speak()"
   ]
  },
  {
   "cell_type": "code",
   "execution_count": 70,
   "metadata": {},
   "outputs": [
    {
     "name": "stdout",
     "output_type": "stream",
     "text": [
      "1\n",
      "7\n",
      "9\n"
     ]
    }
   ],
   "source": [
    "a = 1\n",
    "print(a)\n",
    "a = 7\n",
    "print(a)\n",
    "a = 9\n",
    "print(a)"
   ]
  },
  {
   "cell_type": "code",
   "execution_count": 71,
   "metadata": {},
   "outputs": [
    {
     "data": {
      "text/plain": [
       "9"
      ]
     },
     "execution_count": 71,
     "metadata": {},
     "output_type": "execute_result"
    }
   ],
   "source": [
    "a"
   ]
  },
  {
   "cell_type": "code",
   "execution_count": 55,
   "metadata": {},
   "outputs": [
    {
     "data": {
      "text/plain": [
       "__main__.MyMath"
      ]
     },
     "execution_count": 55,
     "metadata": {},
     "output_type": "execute_result"
    }
   ],
   "source": [
    "m1.__class__"
   ]
  },
  {
   "cell_type": "markdown",
   "metadata": {},
   "source": [
    "# Attendance"
   ]
  },
  {
   "cell_type": "code",
   "execution_count": 1,
   "metadata": {},
   "outputs": [
    {
     "name": "stdout",
     "output_type": "stream",
     "text": [
      "130\n"
     ]
    }
   ],
   "source": [
    "x = \"\"\"\n",
    "09:04:16 From junaid ali To Everyone : PIAIC174125\n",
    "Junaid ali bhatti\n",
    "09:04:40 From Muhammad Furqan(PIAIC183270) To Everyone : Assalam O Alaikum\n",
    "09:04:51 From Shoaib PIAIC-178354 To Everyone : Shoaib PIAIC178354\n",
    "09:04:52 From Nasrullah (PIAIC 180162) To Everyone : PIAIC180162\n",
    "09:04:58 From Usman Noor PIAIC-188401 To Everyone : PIAIC 188401\n",
    "09:04:59 From Amir Rashid To Everyone : aoa\n",
    "09:05:04 From Sadia To Everyone : piaic180028\n",
    "09:05:08 From Mohammad Javed To Everyone : PIAIC185754\n",
    "MOHAMMAD JAVED\n",
    "\"\"\"\n",
    "\n",
    "import re\n",
    "\n",
    "numbers = list(set(re.findall(r'(\\d{5,6})\\b',x)))\n",
    "print(len(numbers))"
   ]
  },
  {
   "cell_type": "code",
   "execution_count": null,
   "metadata": {},
   "outputs": [],
   "source": []
  }
 ],
 "metadata": {
  "kernelspec": {
   "display_name": "Python 3 (ipykernel)",
   "language": "python",
   "name": "python3"
  },
  "language_info": {
   "codemirror_mode": {
    "name": "ipython",
    "version": 3
   },
   "file_extension": ".py",
   "mimetype": "text/x-python",
   "name": "python",
   "nbconvert_exporter": "python",
   "pygments_lexer": "ipython3",
   "version": "3.9.12"
  }
 },
 "nbformat": 4,
 "nbformat_minor": 4
}
