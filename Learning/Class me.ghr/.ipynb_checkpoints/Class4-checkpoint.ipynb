{
 "cells": [
  {
   "cell_type": "code",
   "execution_count": 1,
   "id": "24ab1e67",
   "metadata": {},
   "outputs": [
    {
     "name": "stdout",
     "output_type": "stream",
     "text": [
      "waseem <class 'str'>\n"
     ]
    }
   ],
   "source": [
    "name = \"waseem\"\n",
    "print(name,type(name))"
   ]
  },
  {
   "cell_type": "code",
   "execution_count": 2,
   "id": "6eb1e47b",
   "metadata": {},
   "outputs": [
    {
     "name": "stdout",
     "output_type": "stream",
     "text": [
      "waseem <class 'str'>\n"
     ]
    }
   ],
   "source": [
    "name = 'waseem'\n",
    "print(name,type(name))"
   ]
  },
  {
   "cell_type": "markdown",
   "id": "ca2620c1",
   "metadata": {},
   "source": [
    "# space charactor \\t and \\n"
   ]
  },
  {
   "cell_type": "markdown",
   "id": "c86714f8",
   "metadata": {},
   "source": [
    "# if you are using single quote in start and end or want to use in middle the text than you place (\\)\n",
    "# same as double quote of above."
   ]
  },
  {
   "cell_type": "code",
   "execution_count": 3,
   "id": "0d628d63",
   "metadata": {},
   "outputs": [
    {
     "name": "stdout",
     "output_type": "stream",
     "text": [
      "waseem \"a\"shar <class 'str'>\n"
     ]
    }
   ],
   "source": [
    "name = \"waseem \\\"a\\\"shar\"\n",
    "print(name,type(name))"
   ]
  },
  {
   "cell_type": "code",
   "execution_count": 6,
   "id": "0a496ee9",
   "metadata": {},
   "outputs": [
    {
     "data": {
      "text/plain": [
       "\"\\nName:              Waseem\\nFather's name      Ashar\""
      ]
     },
     "execution_count": 6,
     "metadata": {},
     "output_type": "execute_result"
    }
   ],
   "source": [
    "# triple quote\n",
    "data = \"\"\"\n",
    "Name:              Waseem\n",
    "Father's name      Ashar\"\"\"\n",
    "\n",
    "data #if u write in the last line = output raw text"
   ]
  },
  {
   "cell_type": "code",
   "execution_count": 5,
   "id": "0d0899aa",
   "metadata": {},
   "outputs": [
    {
     "name": "stdout",
     "output_type": "stream",
     "text": [
      "\n",
      "Name:              Waseem\n",
      "Father's name      Ashar\n"
     ]
    }
   ],
   "source": [
    "data = \"\"\"\n",
    "Name:              Waseem\n",
    "Father's name      Ashar\"\"\"\n",
    "\n",
    "print(data)"
   ]
  },
  {
   "cell_type": "markdown",
   "id": "e635d66a",
   "metadata": {},
   "source": [
    "# concatination (combine two ar more variables and value)"
   ]
  },
  {
   "cell_type": "code",
   "execution_count": 9,
   "id": "9a00eb08",
   "metadata": {},
   "outputs": [
    {
     "name": "stdout",
     "output_type": "stream",
     "text": [
      "waseem\n",
      "ejaz mahmood\n"
     ]
    }
   ],
   "source": [
    "name = \"waseem\"\n",
    "fname = \"ejaz mahmood\"\n",
    "print(name,fname,sep=\"\\n\") #shift tab ky satha pata chalta"
   ]
  },
  {
   "cell_type": "code",
   "execution_count": null,
   "id": "f671bb0c",
   "metadata": {},
   "outputs": [],
   "source": [
    "name = \"waseem\"\n",
    "fname = \"ejaz mahmood\"\n",
    "education = \"CA\"\n",
    "designation = \"AM\"\n",
    "\n",
    "Result = \"\"    #.format # f"
   ]
  },
  {
   "cell_type": "code",
   "execution_count": 10,
   "id": "0f4b754c",
   "metadata": {},
   "outputs": [
    {
     "data": {
      "text/plain": [
       "'waseem2000'"
      ]
     },
     "execution_count": 10,
     "metadata": {},
     "output_type": "execute_result"
    }
   ],
   "source": [
    "a = \"waseem\"\n",
    "b = 2000\n",
    "a + str(b)"
   ]
  },
  {
   "cell_type": "markdown",
   "id": "dfce00d1",
   "metadata": {},
   "source": [
    "#String methods"
   ]
  },
  {
   "cell_type": "code",
   "execution_count": null,
   "id": "fe341edb",
   "metadata": {},
   "outputs": [],
   "source": []
  },
  {
   "cell_type": "code",
   "execution_count": null,
   "id": "8eb8dc70",
   "metadata": {},
   "outputs": [],
   "source": []
  },
  {
   "cell_type": "code",
   "execution_count": null,
   "id": "0f9c42e3",
   "metadata": {},
   "outputs": [],
   "source": []
  }
 ],
 "metadata": {
  "kernelspec": {
   "display_name": "Python 3 (ipykernel)",
   "language": "python",
   "name": "python3"
  },
  "language_info": {
   "codemirror_mode": {
    "name": "ipython",
    "version": 3
   },
   "file_extension": ".py",
   "mimetype": "text/x-python",
   "name": "python",
   "nbconvert_exporter": "python",
   "pygments_lexer": "ipython3",
   "version": "3.9.12"
  }
 },
 "nbformat": 4,
 "nbformat_minor": 5
}
