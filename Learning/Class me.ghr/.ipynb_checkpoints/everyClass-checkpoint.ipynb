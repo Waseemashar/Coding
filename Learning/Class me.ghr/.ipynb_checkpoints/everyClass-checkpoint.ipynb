{
 "cells": [
  {
   "cell_type": "code",
   "execution_count": 2,
   "id": "685b40aa",
   "metadata": {},
   "outputs": [],
   "source": [
    "#List and Tuple and slicing"
   ]
  },
  {
   "cell_type": "code",
   "execution_count": 3,
   "id": "6da30e64",
   "metadata": {},
   "outputs": [],
   "source": [
    "# PIAIC183349"
   ]
  },
  {
   "cell_type": "code",
   "execution_count": 4,
   "id": "1231dff7",
   "metadata": {},
   "outputs": [
    {
     "name": "stdout",
     "output_type": "stream",
     "text": [
      "[1, 2, 3, 4, 5, 6, 7, 8, 9, 10, 11, 12, 13, 14, 15, 16, 17, 18, 19, 20] <class 'list'>\n",
      "[8, 9, 10, 11, 12, 13, 14, 15, 16, 17]\n",
      "[8, 10, 12, 14, 16]\n",
      "[20, 19, 18, 17, 16, 15, 14, 13, 12, 11, 10, 9, 8, 7, 6, 5, 4, 3, 2, 1]\n",
      "[18, 17, 16, 15, 14, 13, 12, 11, 10, 9]\n"
     ]
    }
   ],
   "source": [
    "names = list(range(1,21))\n",
    "print(names,type(names))\n",
    "print(names[7:17])\n",
    "print(names[7:17:2])\n",
    "print(names[::-1])\n",
    "print(names[17:7:-1])"
   ]
  },
  {
   "cell_type": "code",
   "execution_count": 5,
   "id": "18525037",
   "metadata": {},
   "outputs": [
    {
     "name": "stdout",
     "output_type": "stream",
     "text": [
      "['ashar', 'waseem', 'abu', 'ammi'] <class 'list'>\n"
     ]
    }
   ],
   "source": [
    "name = [\"ashar\",\"waseem\",\"abu\",\"ammi\"]\n",
    "print(name,type(name))"
   ]
  },
  {
   "cell_type": "code",
   "execution_count": 6,
   "id": "26e83bf2",
   "metadata": {},
   "outputs": [
    {
     "name": "stdout",
     "output_type": "stream",
     "text": [
      "Name:\t\t\tAshar\n",
      "Designation:\t\tAccountant\n",
      "Father's Name:\t\t\"Ejaz\" <class 'str'>\n"
     ]
    }
   ],
   "source": [
    "data = \"Name:\\t\\t\\tAshar\\nDesignation:\\t\\tAccountant\\nFather's Name:\\t\\t\\\"Ejaz\\\"\"\n",
    "print(data,type(data))"
   ]
  },
  {
   "cell_type": "code",
   "execution_count": 7,
   "id": "12d4baa1",
   "metadata": {},
   "outputs": [
    {
     "name": "stdout",
     "output_type": "stream",
     "text": [
      "\n",
      "Name:              Waseem\n",
      "Nick:              Ashar\n",
      "Father's name      Ejaz\n",
      "Designati\"on\"      Accounatant  \n"
     ]
    }
   ],
   "source": [
    "data = \"\"\"\n",
    "Name:              Waseem\n",
    "Nick:              Ashar\n",
    "Father's name      Ejaz\n",
    "Designati\"on\"      Accounatant  \"\"\"\n",
    "print(data)"
   ]
  },
  {
   "cell_type": "code",
   "execution_count": 8,
   "id": "53ecb4b6",
   "metadata": {},
   "outputs": [
    {
     "name": "stdout",
     "output_type": "stream",
     "text": [
      "\n",
      "Name:              Waseem\n",
      "Nick:              Ashar\n",
      "Father's name      Ejaz\n",
      "Designati\"on\"      Accounatant  \n"
     ]
    }
   ],
   "source": [
    "print(data)"
   ]
  },
  {
   "cell_type": "code",
   "execution_count": 9,
   "id": "6988119c",
   "metadata": {},
   "outputs": [
    {
     "name": "stdout",
     "output_type": "stream",
     "text": [
      "[1, 2, 3, 4, 5, 6, 7, 8, 9, 10, 11, 12, 13, 14, 15, 16, 17, 18, 19, 20]\n",
      "['ashar', 'waseem', 'abu', 'ammi']\n",
      "\n",
      "Name:              Waseem\n",
      "Nick:              Ashar\n",
      "Father's name      Ejaz\n",
      "Designati\"on\"      Accounatant  \n"
     ]
    }
   ],
   "source": [
    "print(names)\n",
    "print(name)\n",
    "print(data)"
   ]
  },
  {
   "cell_type": "code",
   "execution_count": 10,
   "id": "5f2a1907",
   "metadata": {},
   "outputs": [
    {
     "name": "stdout",
     "output_type": "stream",
     "text": [
      "Waseem\n",
      "Ejaz\n",
      "Accountant\n",
      "CA\n"
     ]
    }
   ],
   "source": [
    "Name_1 = \"Waseem\"\n",
    "Fathers_name = \"Ejaz\"\n",
    "Designation = \"Accountant\"\n",
    "Education = \"CA\"\n",
    "\n",
    "print(Name_1,Fathers_name,Designation,Education, sep=\"\\n\")"
   ]
  },
  {
   "cell_type": "code",
   "execution_count": 11,
   "id": "ecdb71d4",
   "metadata": {},
   "outputs": [
    {
     "name": "stdout",
     "output_type": "stream",
     "text": [
      "Student card \n",
      "Name:  Waseem\n",
      "Fathers Name:  Ejaz\n",
      "Designation:  Accountant\n",
      "Education:  CA\n"
     ]
    }
   ],
   "source": [
    "Name_1 = \"Waseem\"\n",
    "Fathers_name = \"Ejaz\"\n",
    "Designation = \"Accountant\"\n",
    "Education = \"CA\"\n",
    "\n",
    "Result = \"Student card \\nName:  \" +Name_1+ \"\\nFathers Name:  \" +Fathers_name+ \"\\nDesignation:  \" +Designation+ \"\\nEducation:  \" +Education\n",
    "\n",
    "print(Result)\n"
   ]
  },
  {
   "cell_type": "code",
   "execution_count": 12,
   "id": "37b9a6c9",
   "metadata": {},
   "outputs": [
    {
     "name": "stdout",
     "output_type": "stream",
     "text": [
      "\n",
      "Name:              Waseem\n",
      "Nick:              Ashar\n",
      "Father's name      Ejaz\n",
      "Designati\"on\"      Accounatant  \n"
     ]
    }
   ],
   "source": [
    "print(data)"
   ]
  },
  {
   "cell_type": "code",
   "execution_count": 13,
   "id": "820f1cf6",
   "metadata": {},
   "outputs": [
    {
     "name": "stdout",
     "output_type": "stream",
     "text": [
      "Student card \n",
      "Name:  Waseem\n",
      "Fathers Name:  Ejaz\n",
      "Designation:  Accountant\n",
      "Education:  CA\n"
     ]
    }
   ],
   "source": [
    "print(Result)"
   ]
  },
  {
   "cell_type": "code",
   "execution_count": 14,
   "id": "85d9d9ba",
   "metadata": {},
   "outputs": [
    {
     "name": "stdout",
     "output_type": "stream",
     "text": [
      "\n",
      "Name:                 Waseem\n",
      "Fathers Name:         Ejaz\n",
      "Designation:          Accountant\n",
      "Education:            CA\n",
      "\n"
     ]
    }
   ],
   "source": [
    "Name_1 = \"Waseem\"\n",
    "Fathers_name = \"Ejaz\"\n",
    "Designation = \"Accountant\"\n",
    "Education = \"CA\"\n",
    "\n",
    "Card = \"\"\"\n",
    "Name:                 {}\n",
    "Fathers Name:         {}\n",
    "Designation:          {}\n",
    "Education:            {}\n",
    "\"\"\".format(Name_1,Fathers_name,Designation,Education)\n",
    "\n",
    "print(Card)"
   ]
  },
  {
   "cell_type": "code",
   "execution_count": 15,
   "id": "4c39af18",
   "metadata": {},
   "outputs": [
    {
     "name": "stdout",
     "output_type": "stream",
     "text": [
      "\n",
      "STUDENT CARD\n",
      "Name:                 Waseem\n",
      "Fathers Name:         Ejaz\n",
      "Designation:          Accountant\n",
      "Education:            CA\n",
      "\n"
     ]
    }
   ],
   "source": [
    "Name_1 = \"Waseem\"\n",
    "Fathers_name = \"Ejaz\"\n",
    "Designation = \"Accountant\"\n",
    "Education = \"CA\"\n",
    "\n",
    "Card = f\"\"\"\n",
    "STUDENT CARD\n",
    "Name:                 {Name_1}\n",
    "Fathers Name:         {Fathers_name}\n",
    "Designation:          {Designation}\n",
    "Education:            {Education}\n",
    "\"\"\"\n",
    "\n",
    "print(Card)"
   ]
  },
  {
   "cell_type": "code",
   "execution_count": 16,
   "id": "5fcf5572",
   "metadata": {},
   "outputs": [
    {
     "name": "stdout",
     "output_type": "stream",
     "text": [
      "Pakistan  1000\n"
     ]
    }
   ],
   "source": [
    "a = \"Pakistan\"\n",
    "b = 1000\n",
    "\n",
    "print(a + \"  \" +str(b))\n",
    "\n"
   ]
  },
  {
   "cell_type": "code",
   "execution_count": 1,
   "id": "d8746cc1",
   "metadata": {},
   "outputs": [
    {
     "name": "stdout",
     "output_type": "stream",
     "text": [
      " Enter Your Name Waseem\n",
      " Enter Your Father's Name Ejaz\n",
      " Enter Your Designation Accountant\n",
      " Enter Your Education CA\n",
      "\n",
      "STUDENT CARD\n",
      "Name:                 Waseem\n",
      "Fathers Name:         Ejaz\n",
      "Designation:          Accountant\n",
      "Education:            CA\n",
      "\n"
     ]
    }
   ],
   "source": [
    "\n",
    "Name_1 = input(\" Enter Your Name \")\n",
    "Fathers_name = input(\" Enter Your Father's Name \")\n",
    "Designation = input(\" Enter Your Designation \")\n",
    "Education = input(\" Enter Your Education \")\n",
    "\n",
    "Card = f\"\"\"\n",
    "STUDENT CARD\n",
    "Name:                 {Name_1}\n",
    "Fathers Name:         {Fathers_name}\n",
    "Designation:          {Designation}\n",
    "Education:            {Education}\n",
    "\"\"\"\n",
    "\n",
    "print(Card)"
   ]
  },
  {
   "cell_type": "code",
   "execution_count": 43,
   "id": "dcaa4314",
   "metadata": {},
   "outputs": [
    {
     "name": "stdout",
     "output_type": "stream",
     "text": [
      "Waseem\n",
      "waseem\n"
     ]
    }
   ],
   "source": [
    "name = \"waseem\"\n",
    "print(name.capitalize())\n",
    "print(name.casefold())\n"
   ]
  },
  {
   "cell_type": "code",
   "execution_count": 62,
   "id": "5c56cb08",
   "metadata": {},
   "outputs": [
    {
     "name": "stdout",
     "output_type": "stream",
     "text": [
      "False\n"
     ]
    },
    {
     "data": {
      "text/plain": [
       "True"
      ]
     },
     "execution_count": 62,
     "metadata": {},
     "output_type": "execute_result"
    }
   ],
   "source": [
    "print(\"WaSeem\" == \"Waseem\")\n",
    "\"waSEEm\".casefold() == \"waseem\".casefold()"
   ]
  },
  {
   "cell_type": "code",
   "execution_count": 93,
   "id": "377dace6",
   "metadata": {},
   "outputs": [
    {
     "name": "stdout",
     "output_type": "stream",
     "text": [
      "1\n",
      "2\n"
     ]
    }
   ],
   "source": [
    "name = \"waseem\"\n",
    "print(name.count('waseem'))\n",
    "print(name.count('e'))\n"
   ]
  },
  {
   "cell_type": "code",
   "execution_count": 97,
   "id": "a1d54793",
   "metadata": {},
   "outputs": [
    {
     "data": {
      "text/plain": [
       "b'waseem'"
      ]
     },
     "execution_count": 97,
     "metadata": {},
     "output_type": "execute_result"
    }
   ],
   "source": [
    "name = \"waseem\"\n",
    "name.encode('utf-8')"
   ]
  },
  {
   "cell_type": "code",
   "execution_count": 25,
   "id": "ca68350d",
   "metadata": {},
   "outputs": [
    {
     "name": "stdout",
     "output_type": "stream",
     "text": [
      "6\n",
      "7\n",
      "8\n",
      "9\n",
      "10\n"
     ]
    }
   ],
   "source": [
    "Range = [1,2,3,4,5,6,7,8,9,10]\n",
    "for num in Range:\n",
    "    if num > 5:\n",
    "        print(num)"
   ]
  },
  {
   "cell_type": "code",
   "execution_count": 17,
   "id": "db69d2cb",
   "metadata": {},
   "outputs": [
    {
     "name": "stdout",
     "output_type": "stream",
     "text": [
      "[1, 2, 3]\n",
      "[4, 5, 6, 7, 8, 9, 10]\n"
     ]
    }
   ],
   "source": [
    "Range = [1,2,3,4,5,6,7,8,9,10]\n",
    "completed_task = []\n",
    "completed_task.append(Range.pop(0))\n",
    "completed_task.append(Range.pop(0))\n",
    "completed_task.append(Range.pop(0))\n",
    "print(completed_task)\n",
    "print(Range)"
   ]
  },
  {
   "cell_type": "code",
   "execution_count": 18,
   "id": "d03fb345",
   "metadata": {},
   "outputs": [
    {
     "name": "stdout",
     "output_type": "stream",
     "text": [
      "[10, 9, 8]\n",
      "[1, 2, 3, 4, 5, 6, 7]\n"
     ]
    }
   ],
   "source": [
    "Range = [1,2,3,4,5,6,7,8,9,10]\n",
    "completed_task = []\n",
    "completed_task.append(Range.pop())\n",
    "completed_task.append(Range.pop())\n",
    "completed_task.append(Range.pop())\n",
    "print(completed_task)\n",
    "print(Range)"
   ]
  },
  {
   "cell_type": "code",
   "execution_count": 22,
   "id": "229f4a13",
   "metadata": {},
   "outputs": [
    {
     "name": "stdout",
     "output_type": "stream",
     "text": [
      "[8, 9, 10]\n",
      "[1, 2, 3, 4, 5, 6, 7]\n"
     ]
    }
   ],
   "source": [
    "Range = [1,2,3,4,5,6,7,8,9,10]\n",
    "completed_task = []\n",
    "completed_task.insert(0,Range.pop())\n",
    "completed_task.insert(0,Range.pop())\n",
    "completed_task.insert(0,Range.pop())\n",
    "print(completed_task)\n",
    "print(Range)"
   ]
  },
  {
   "cell_type": "code",
   "execution_count": 67,
   "id": "f6544756",
   "metadata": {},
   "outputs": [
    {
     "name": "stdout",
     "output_type": "stream",
     "text": [
      "me\n",
      "u\n",
      "we\n",
      "us\n"
     ]
    }
   ],
   "source": [
    "r = [\"me\",\"u\",\"we\",\"us\"]\n",
    "for m in r:\n",
    "    print(m)\n",
    "\n"
   ]
  },
  {
   "cell_type": "code",
   "execution_count": 9,
   "id": "851191c0",
   "metadata": {},
   "outputs": [
    {
     "name": "stdout",
     "output_type": "stream",
     "text": [
      "Me\n",
      "U\n",
      "WE\n",
      "US\n"
     ]
    }
   ],
   "source": [
    "r = [\"me\",\"u\",\"we\",\"us\"]\n",
    "for m in r:\n",
    "    if m == \"we\" or m == \"us\":\n",
    "        print(m.upper())\n",
    "    else:\n",
    "        print(m.title())"
   ]
  },
  {
   "cell_type": "code",
   "execution_count": 34,
   "id": "b7451b06",
   "metadata": {},
   "outputs": [
    {
     "name": "stdout",
     "output_type": "stream",
     "text": [
      "Banned User\n"
     ]
    }
   ],
   "source": [
    "banned_ids = [\"ashar\",\"waseem\",\"numan\"]\n",
    "User = \"numan\"\n",
    "if User not in banned_ids:\n",
    "    print(\"Verified user\")\n",
    "else:\n",
    "    print(\"Banned User\")"
   ]
  },
  {
   "cell_type": "code",
   "execution_count": 44,
   "id": "58f94480",
   "metadata": {},
   "outputs": [
    {
     "name": "stdout",
     "output_type": "stream",
     "text": [
      "The ticket price is $60.\n"
     ]
    }
   ],
   "source": [
    "age = 19\n",
    "\n",
    "if age <= 12:\n",
    "    price = 20\n",
    "elif age <= 18:\n",
    "    price = 40\n",
    "else:\n",
    "    price = 60\n",
    "    \n",
    "print(f\"The ticket price is ${price}.\")"
   ]
  },
  {
   "cell_type": "code",
   "execution_count": 49,
   "id": "febd0422",
   "metadata": {},
   "outputs": [
    {
     "name": "stdout",
     "output_type": "stream",
     "text": [
      "adding mushrooms\n",
      "adding extra cheese\n",
      "\n",
      "Enjoy your pizza\n"
     ]
    }
   ],
   "source": [
    "requested_toppings = ['mushrooms', 'extra cheese']\n",
    "if \"mushrooms\" in requested_toppings:\n",
    "    print(\"adding mushrooms\")\n",
    "if \"peprony\" in requested_toppings:\n",
    "    print(\"adding peproni\")\n",
    "if \"extra cheese\" in requested_toppings:\n",
    "    print(\"adding extra cheese\")\n",
    "    print(\"\\nEnjoy your pizza\")"
   ]
  },
  {
   "cell_type": "code",
   "execution_count": 17,
   "id": "22109b86",
   "metadata": {},
   "outputs": [
    {
     "name": "stdout",
     "output_type": "stream",
     "text": [
      "['mlt', 'skr', 'hyd', 'rwp', 'isb', 'kpk', 'qta', 'abt', 'kri']\n"
     ]
    }
   ],
   "source": [
    "list1 = []\n",
    "list1.append(\"mlt\")\n",
    "list1.append(\"skr\")\n",
    "list1.append(\"hyd\")\n",
    "list1.append(\"rwp\")\n",
    "list1.append(\"isb\")\n",
    "list1.append(\"kpk\")\n",
    "list1.append(\"qta\")\n",
    "list1.append(\"abt\")\n",
    "list1.append(\"kri\")\n",
    "print(list1)"
   ]
  },
  {
   "cell_type": "code",
   "execution_count": 18,
   "id": "bf81354c",
   "metadata": {},
   "outputs": [
    {
     "name": "stdout",
     "output_type": "stream",
     "text": [
      "These are the regions of AKC \n",
      "['mlt', 'skr', 'hyd', 'rwp', 'isb', 'kpk', 'qta', 'abt', 'kri']\n"
     ]
    }
   ],
   "source": [
    "print(\"These are the regions of AKC \\n\" + str(list1))\n"
   ]
  },
  {
   "cell_type": "code",
   "execution_count": 19,
   "id": "4f53fbb1",
   "metadata": {},
   "outputs": [
    {
     "name": "stdout",
     "output_type": "stream",
     "text": [
      "MLT SKR HYD RWP ISB KPK QTA ABT KRI "
     ]
    }
   ],
   "source": [
    "for m in list1:\n",
    "    print(m.upper(), end=\" \")"
   ]
  },
  {
   "cell_type": "code",
   "execution_count": 20,
   "id": "583b1895",
   "metadata": {},
   "outputs": [
    {
     "name": "stdout",
     "output_type": "stream",
     "text": [
      "MLT\n",
      "SKR\n",
      "HYD\n",
      "RWP\n",
      "ISB\n",
      "KPK\n",
      "QTA\n",
      "ABT\n",
      "KRI\n"
     ]
    }
   ],
   "source": [
    "for m in list1:\n",
    "    print(m.upper())"
   ]
  },
  {
   "cell_type": "code",
   "execution_count": 22,
   "id": "b9330cf8",
   "metadata": {},
   "outputs": [
    {
     "name": "stdout",
     "output_type": "stream",
     "text": [
      "These are the regions of AKC \n",
      " ['mlt', 'skr', 'hyd', 'rwp', 'isb', 'kpk', 'qta', 'abt', 'kri']\n"
     ]
    }
   ],
   "source": [
    "print(f\"These are the regions of AKC \\n {list1}\")"
   ]
  },
  {
   "cell_type": "code",
   "execution_count": 20,
   "id": "cb510df6",
   "metadata": {},
   "outputs": [
    {
     "name": "stdout",
     "output_type": "stream",
     "text": [
      "0\n",
      "1\n",
      "2\n",
      "3\n",
      "4\n",
      "5\n",
      "6\n",
      "7\n",
      "8\n",
      "9\n",
      "10\n"
     ]
    }
   ],
   "source": [
    "count = 0\n",
    "\n",
    "while count <= 10:\n",
    "    print(count)\n",
    "    count += 1"
   ]
  },
  {
   "cell_type": "code",
   "execution_count": 8,
   "id": "5791a7e4",
   "metadata": {},
   "outputs": [
    {
     "name": "stdout",
     "output_type": "stream",
     "text": [
      "[2, 4, 6, 8, 10]\n"
     ]
    }
   ],
   "source": [
    "print(list(range(2,11,2)))"
   ]
  },
  {
   "cell_type": "code",
   "execution_count": 10,
   "id": "2d6267cb",
   "metadata": {},
   "outputs": [
    {
     "name": "stdout",
     "output_type": "stream",
     "text": [
      "[1, 4, 9, 16, 25, 36, 49, 64, 81, 100]\n"
     ]
    }
   ],
   "source": [
    "squares = []\n",
    "for value in range(1,11):\n",
    "    square = value ** 2\n",
    "    squares.append(square)\n",
    "print(squares)\n",
    "    \n"
   ]
  },
  {
   "cell_type": "code",
   "execution_count": 11,
   "id": "b5d7b69e",
   "metadata": {},
   "outputs": [
    {
     "name": "stdout",
     "output_type": "stream",
     "text": [
      "[1, 4, 9, 16, 25, 36, 49, 64, 81, 100]\n"
     ]
    }
   ],
   "source": [
    "squares = []\n",
    "for value in range(1,11):\n",
    "    squares.append(value ** 2)\n",
    "print(squares)"
   ]
  },
  {
   "cell_type": "code",
   "execution_count": 4,
   "id": "a6959da6",
   "metadata": {},
   "outputs": [
    {
     "name": "stdout",
     "output_type": "stream",
     "text": [
      "1st\n"
     ]
    },
    {
     "data": {
      "text/plain": [
       "10"
      ]
     },
     "execution_count": 4,
     "metadata": {},
     "output_type": "execute_result"
    }
   ],
   "source": [
    "def mygen():\n",
    "    print(\"1st\")\n",
    "    yield 10\n",
    "    \n",
    "    print(\"2nd\")\n",
    "    yield 20\n",
    "    \n",
    "    print(\"3rd\")\n",
    "    yield 30\n",
    "    \n",
    "\n",
    "gen = mygen()\n",
    "\n",
    "next(gen)\n"
   ]
  },
  {
   "cell_type": "code",
   "execution_count": 5,
   "id": "c7617d5e",
   "metadata": {},
   "outputs": [
    {
     "name": "stdout",
     "output_type": "stream",
     "text": [
      "2nd\n"
     ]
    },
    {
     "data": {
      "text/plain": [
       "20"
      ]
     },
     "execution_count": 5,
     "metadata": {},
     "output_type": "execute_result"
    }
   ],
   "source": [
    "next(gen)\n"
   ]
  },
  {
   "cell_type": "code",
   "execution_count": 6,
   "id": "5c7ea8d4",
   "metadata": {},
   "outputs": [
    {
     "name": "stdout",
     "output_type": "stream",
     "text": [
      "3rd\n"
     ]
    },
    {
     "data": {
      "text/plain": [
       "30"
      ]
     },
     "execution_count": 6,
     "metadata": {},
     "output_type": "execute_result"
    }
   ],
   "source": [
    "next(gen)"
   ]
  },
  {
   "cell_type": "code",
   "execution_count": 12,
   "id": "6114b585",
   "metadata": {},
   "outputs": [
    {
     "name": "stdout",
     "output_type": "stream",
     "text": [
      "500000\n"
     ]
    }
   ],
   "source": [
    "def indexing(a):\n",
    "    count = a*100000\n",
    "    while count <= (a+1)*100000:\n",
    "        yield print(count)\n",
    "        count += 100\n",
    "\n",
    "        \n",
    "ID = indexing(5)\n",
    "\n",
    "next(ID)"
   ]
  },
  {
   "cell_type": "code",
   "execution_count": 13,
   "id": "e651b104",
   "metadata": {},
   "outputs": [
    {
     "name": "stdout",
     "output_type": "stream",
     "text": [
      "500100\n",
      "500200\n",
      "500300\n",
      "500400\n",
      "500500\n",
      "500600\n",
      "500700\n",
      "500800\n",
      "500900\n",
      "501000\n",
      "501100\n"
     ]
    }
   ],
   "source": [
    "next(ID)\n",
    "next(ID)\n",
    "next(ID)\n",
    "next(ID)\n",
    "next(ID)\n",
    "next(ID)\n",
    "next(ID)\n",
    "next(ID)\n",
    "next(ID)\n",
    "next(ID)\n",
    "next(ID)"
   ]
  },
  {
   "cell_type": "code",
   "execution_count": 24,
   "id": "8b075360",
   "metadata": {},
   "outputs": [
    {
     "name": "stdout",
     "output_type": "stream",
     "text": [
      "30\n"
     ]
    },
    {
     "data": {
      "text/plain": [
       "[{'color': 'green', 'points': 5, 'speed': 'slow'},\n",
       " {'color': 'green', 'points': 5, 'speed': 'slow'},\n",
       " {'color': 'green', 'points': 5, 'speed': 'slow'},\n",
       " {'color': 'green', 'points': 5, 'speed': 'slow'},\n",
       " {'color': 'green', 'points': 5, 'speed': 'slow'},\n",
       " {'color': 'green', 'points': 5, 'speed': 'slow'},\n",
       " {'color': 'green', 'points': 5, 'speed': 'slow'},\n",
       " {'color': 'green', 'points': 5, 'speed': 'slow'},\n",
       " {'color': 'green', 'points': 5, 'speed': 'slow'},\n",
       " {'color': 'green', 'points': 5, 'speed': 'slow'},\n",
       " {'color': 'green', 'points': 5, 'speed': 'slow'},\n",
       " {'color': 'green', 'points': 5, 'speed': 'slow'},\n",
       " {'color': 'green', 'points': 5, 'speed': 'slow'},\n",
       " {'color': 'green', 'points': 5, 'speed': 'slow'},\n",
       " {'color': 'green', 'points': 5, 'speed': 'slow'},\n",
       " {'color': 'green', 'points': 5, 'speed': 'slow'},\n",
       " {'color': 'green', 'points': 5, 'speed': 'slow'},\n",
       " {'color': 'green', 'points': 5, 'speed': 'slow'},\n",
       " {'color': 'green', 'points': 5, 'speed': 'slow'},\n",
       " {'color': 'green', 'points': 5, 'speed': 'slow'},\n",
       " {'color': 'green', 'points': 5, 'speed': 'slow'},\n",
       " {'color': 'green', 'points': 5, 'speed': 'slow'},\n",
       " {'color': 'green', 'points': 5, 'speed': 'slow'},\n",
       " {'color': 'green', 'points': 5, 'speed': 'slow'},\n",
       " {'color': 'green', 'points': 5, 'speed': 'slow'},\n",
       " {'color': 'green', 'points': 5, 'speed': 'slow'},\n",
       " {'color': 'green', 'points': 5, 'speed': 'slow'},\n",
       " {'color': 'green', 'points': 5, 'speed': 'slow'},\n",
       " {'color': 'green', 'points': 5, 'speed': 'slow'},\n",
       " {'color': 'green', 'points': 5, 'speed': 'slow'}]"
      ]
     },
     "execution_count": 24,
     "metadata": {},
     "output_type": "execute_result"
    }
   ],
   "source": [
    "aliens = []\n",
    "\n",
    "for a in range(30):\n",
    "    new = {\"color\": \"green\",\n",
    "          \"points\": 5,\n",
    "          \"speed\": \"slow\"}\n",
    "    aliens.append(new)\n",
    "\n",
    "print(len(aliens))\n",
    "aliens\n"
   ]
  },
  {
   "cell_type": "code",
   "execution_count": 35,
   "id": "1fbe00b1",
   "metadata": {},
   "outputs": [
    {
     "data": {
      "text/plain": [
       "[{'color': 'yellow', 'points': 10, 'speed': 'medium'},\n",
       " {'color': 'green', 'points': 5, 'speed': 'slow'},\n",
       " {'color': 'red', 'points': 15, 'speed': 'fast'},\n",
       " {'color': 'yellow', 'points': 10, 'speed': 'medium'},\n",
       " {'color': 'red', 'points': 15, 'speed': 'fast'},\n",
       " {'color': 'green', 'points': 5, 'speed': 'slow'},\n",
       " {'color': 'yellow', 'points': 10, 'speed': 'medium'},\n",
       " {'color': 'green', 'points': 5, 'speed': 'slow'},\n",
       " {'color': 'red', 'points': 15, 'speed': 'fast'},\n",
       " {'color': 'yellow', 'points': 10, 'speed': 'medium'},\n",
       " {'color': 'red', 'points': 15, 'speed': 'fast'},\n",
       " {'color': 'green', 'points': 5, 'speed': 'slow'},\n",
       " {'color': 'yellow', 'points': 10, 'speed': 'medium'},\n",
       " {'color': 'green', 'points': 5, 'speed': 'slow'},\n",
       " {'color': 'red', 'points': 15, 'speed': 'fast'},\n",
       " {'color': 'yellow', 'points': 10, 'speed': 'medium'},\n",
       " {'color': 'red', 'points': 15, 'speed': 'fast'},\n",
       " {'color': 'green', 'points': 5, 'speed': 'slow'},\n",
       " {'color': 'yellow', 'points': 10, 'speed': 'medium'},\n",
       " {'color': 'green', 'points': 5, 'speed': 'slow'},\n",
       " {'color': 'red', 'points': 15, 'speed': 'fast'},\n",
       " {'color': 'yellow', 'points': 10, 'speed': 'medium'},\n",
       " {'color': 'red', 'points': 15, 'speed': 'fast'},\n",
       " {'color': 'green', 'points': 5, 'speed': 'slow'},\n",
       " {'color': 'yellow', 'points': 10, 'speed': 'medium'},\n",
       " {'color': 'green', 'points': 5, 'speed': 'slow'},\n",
       " {'color': 'red', 'points': 15, 'speed': 'fast'},\n",
       " {'color': 'yellow', 'points': 10, 'speed': 'medium'},\n",
       " {'color': 'red', 'points': 15, 'speed': 'fast'},\n",
       " {'color': 'green', 'points': 5, 'speed': 'slow'}]"
      ]
     },
     "execution_count": 35,
     "metadata": {},
     "output_type": "execute_result"
    }
   ],
   "source": [
    "aliens = []\n",
    "\n",
    "for a in range(30):\n",
    "    new = {\"color\": \"green\",\n",
    "          \"points\": 5,\n",
    "          \"speed\": \"slow\"}\n",
    "    aliens.append(new)\n",
    "    \n",
    "for n in aliens[0:30:3]:\n",
    "    if n[\"color\"] == \"green\":\n",
    "        n[\"color\"] = \"yellow\"\n",
    "        n[\"points\"] = 10\n",
    "        n[\"speed\"] = \"medium\"\n",
    "\n",
    "for n in aliens[0:30:2]:\n",
    "    if n[\"color\"] == \"green\":\n",
    "        n[\"color\"] = \"red\"\n",
    "        n[\"points\"] = 15\n",
    "        n[\"speed\"] = \"fast\"\n",
    "        \n",
    "aliens\n"
   ]
  },
  {
   "cell_type": "code",
   "execution_count": 30,
   "id": "54b91941",
   "metadata": {},
   "outputs": [
    {
     "data": {
      "text/plain": [
       "['Afnan Khan', 'Zee Shan', 'Atta Ullah', 'Hamdan Cj']"
      ]
     },
     "execution_count": 30,
     "metadata": {},
     "output_type": "execute_result"
    }
   ],
   "source": [
    "first_n = [\"afnan\", \"zee\", \"atta\", \"hamdan\"]\n",
    "last_n = [\"khan\", \"shan\", \"ullah\", \"cj\"]\n",
    "\n",
    "full_n = list(map(lambda x,y: x.title() +\" \"+ y.title(), first_n, last_n))\n",
    "full_n"
   ]
  },
  {
   "cell_type": "code",
   "execution_count": 34,
   "id": "fcf0a0a0",
   "metadata": {},
   "outputs": [
    {
     "data": {
      "text/plain": [
       "['afnan khan', 'zee shan']"
      ]
     },
     "execution_count": 34,
     "metadata": {},
     "output_type": "execute_result"
    }
   ],
   "source": [
    "first_n = [\"afnan\", \"zee\", \"atta\", \"hamdan\"]\n",
    "last_n = [\"khan\", \"shan\", \"ullah\", \"cj\"]\n",
    "\n",
    "full_name = []\n",
    "\n",
    "full_name.append(first_n[0]+\" \"+last_n[0])\n",
    "full_name.append(first_n[1]+\" \"+last_n[1])\n",
    "full_name"
   ]
  },
  {
   "cell_type": "code",
   "execution_count": 49,
   "id": "93aad4ff",
   "metadata": {},
   "outputs": [
    {
     "data": {
      "text/plain": [
       "['Hamdan Cj', 'Atta Ullah', 'Zee Shan', 'Afnan Khan']"
      ]
     },
     "execution_count": 49,
     "metadata": {},
     "output_type": "execute_result"
    }
   ],
   "source": [
    "first_n = [\"afnan\", \"zee\", \"atta\", \"hamdan\"]\n",
    "last_n = [\"khan\", \"shan\", \"ullah\", \"cj\"]\n",
    "\n",
    "full_name = []\n",
    "\n",
    "for i in range(len(first_n)):\n",
    "    fn = first_n.pop()\n",
    "    ln = last_n.pop()\n",
    "    full_name.append(fn.title()+\" \"+ln.title())\n",
    "    \n",
    "\n",
    "full_name"
   ]
  },
  {
   "cell_type": "code",
   "execution_count": 46,
   "id": "3dff1340",
   "metadata": {},
   "outputs": [
    {
     "data": {
      "text/plain": [
       "['Afnan Khan', 'Zee Shan', 'Atta Ullah', 'Hamdan Cj']"
      ]
     },
     "execution_count": 46,
     "metadata": {},
     "output_type": "execute_result"
    }
   ],
   "source": [
    "first_n = [\"afnan\", \"zee\", \"atta\", \"hamdan\"]\n",
    "last_n = [\"khan\", \"shan\", \"ullah\", \"cj\"]\n",
    "\n",
    "full_name = []\n",
    "\n",
    "for i in range(len(first_n)):\n",
    "    fn = first_n[i]\n",
    "    ln = last_n[i]\n",
    "    full_name.append(fn.title()+\" \"+ln.title())\n",
    "    \n",
    "\n",
    "full_name"
   ]
  },
  {
   "cell_type": "code",
   "execution_count": 47,
   "id": "b12e9e56",
   "metadata": {},
   "outputs": [
    {
     "data": {
      "text/plain": [
       "['Afnan Khan', 'Zee Shan', 'Atta Ullah', 'Hamdan Cj']"
      ]
     },
     "execution_count": 47,
     "metadata": {},
     "output_type": "execute_result"
    }
   ],
   "source": [
    "first_n = [\"afnan\", \"zee\", \"atta\", \"hamdan\"]\n",
    "last_n = [\"khan\", \"shan\", \"ullah\", \"cj\"]\n",
    "\n",
    "full_name = []\n",
    "\n",
    "for i in range(len(first_n)):\n",
    "    full_name.append(first_n[i].title()+\" \"+last_n[i].title())\n",
    "    \n",
    "\n",
    "full_name"
   ]
  },
  {
   "cell_type": "code",
   "execution_count": null,
   "id": "c299b2bd",
   "metadata": {},
   "outputs": [],
   "source": []
  },
  {
   "cell_type": "code",
   "execution_count": null,
   "id": "b16889fb",
   "metadata": {},
   "outputs": [],
   "source": []
  },
  {
   "cell_type": "code",
   "execution_count": null,
   "id": "66afd124",
   "metadata": {},
   "outputs": [],
   "source": []
  },
  {
   "cell_type": "code",
   "execution_count": null,
   "id": "bb7550a6",
   "metadata": {},
   "outputs": [],
   "source": []
  },
  {
   "cell_type": "code",
   "execution_count": null,
   "id": "dd7dcf2d",
   "metadata": {},
   "outputs": [],
   "source": []
  },
  {
   "cell_type": "code",
   "execution_count": null,
   "id": "5db22bf1",
   "metadata": {},
   "outputs": [],
   "source": []
  },
  {
   "cell_type": "code",
   "execution_count": null,
   "id": "aafa10cf",
   "metadata": {},
   "outputs": [],
   "source": []
  },
  {
   "cell_type": "code",
   "execution_count": null,
   "id": "af16f214",
   "metadata": {},
   "outputs": [],
   "source": []
  },
  {
   "cell_type": "code",
   "execution_count": null,
   "id": "3abc2a0d",
   "metadata": {},
   "outputs": [],
   "source": []
  }
 ],
 "metadata": {
  "kernelspec": {
   "display_name": "Python 3 (ipykernel)",
   "language": "python",
   "name": "python3"
  },
  "language_info": {
   "codemirror_mode": {
    "name": "ipython",
    "version": 3
   },
   "file_extension": ".py",
   "mimetype": "text/x-python",
   "name": "python",
   "nbconvert_exporter": "python",
   "pygments_lexer": "ipython3",
   "version": "3.9.12"
  }
 },
 "nbformat": 4,
 "nbformat_minor": 5
}
