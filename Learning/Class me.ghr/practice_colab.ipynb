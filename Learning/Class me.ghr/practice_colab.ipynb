{
 "cells": [
  {
   "cell_type": "code",
   "execution_count": null,
   "metadata": {
    "colab": {
     "base_uri": "https://localhost:8080/"
    },
    "id": "AtD7HkmvjZ7M",
    "outputId": "59abc7ec-29f8-45bc-ffb7-31b2c15d225a"
   },
   "outputs": [
    {
     "name": "stdout",
     "output_type": "stream",
     "text": [
      "waseem ashar\n"
     ]
    }
   ],
   "source": [
    "print(\"waseem ashar\")"
   ]
  },
  {
   "cell_type": "code",
   "execution_count": null,
   "metadata": {
    "colab": {
     "base_uri": "https://localhost:8080/"
    },
    "id": "rj6EI1BjsXcE",
    "outputId": "f83c912b-2fc4-4f1f-9632-0a35dbce0398"
   },
   "outputs": [
    {
     "name": "stdout",
     "output_type": "stream",
     "text": [
      "0\n",
      "1\n",
      "2\n",
      "3\n",
      "4\n",
      "5\n",
      "6\n",
      "7\n",
      "8\n",
      "9\n",
      "10\n"
     ]
    }
   ],
   "source": [
    "count = 0\n",
    "while count<=10:\n",
    "  print(count)\n",
    "  count += 1\n",
    "  "
   ]
  },
  {
   "cell_type": "code",
   "execution_count": null,
   "metadata": {
    "colab": {
     "base_uri": "https://localhost:8080/"
    },
    "id": "byfDNJAMsY1L",
    "outputId": "6a229ca1-8ce9-4c5a-92a3-a37ccf3c7a6c"
   },
   "outputs": [
    {
     "name": "stdout",
     "output_type": "stream",
     "text": [
      "Waseem\n",
      "Waseem\n",
      "Ashar\n",
      "Numan\n",
      "Junaid\n",
      "Mubeen\n",
      "Maria\n"
     ]
    }
   ],
   "source": [
    "Name_list = [\"waseem\",\"ashar\",\"numan\",\"junaid\",\"faheem\",\"mubeen\",\"maria\"]\n",
    "print(Name_list[0].title())\n",
    "for name in Name_list:\n",
    "  if name == \"faheem\":\n",
    "    continue\n",
    "  print(name.title())"
   ]
  },
  {
   "cell_type": "code",
   "execution_count": null,
   "metadata": {
    "colab": {
     "base_uri": "https://localhost:8080/"
    },
    "id": "H93tUC0gsb8x",
    "outputId": "82e1c9cf-491f-4406-e039-69828bfa4941"
   },
   "outputs": [
    {
     "name": "stdout",
     "output_type": "stream",
     "text": [
      "Enter your expense or 0 to result: 69\n",
      "Enter your expense or 0 to result: 45\n",
      "Enter your expense or 0 to result: 89\n",
      "Enter your expense or 0 to result: 62\n",
      "Enter your expense or 0 to result: 0\n",
      "\n",
      "Your total expenses are amounting Rs. 265\n",
      "The individual expenses are as follows:\n",
      " [69, 45, 89, 62]\n"
     ]
    }
   ],
   "source": [
    "expenses = []\n",
    "count = 0\n",
    "\n",
    "while True:\n",
    "  count = int(input(\"Enter your expense or 0 to result: \"))\n",
    "  if count == 0:\n",
    "    break\n",
    "\n",
    "  expenses.append(count)\n",
    "\n",
    "print(\"\\nYour total expenses are amounting Rs.\", sum(expenses))\n",
    "print(\"The individual expenses are as follows:\\n\" ,[i for i in expenses])\n"
   ]
  },
  {
   "cell_type": "code",
   "execution_count": null,
   "metadata": {
    "colab": {
     "base_uri": "https://localhost:8080/"
    },
    "id": "tlRFwBPCscOc",
    "outputId": "7f9c6001-f052-49b4-8f6e-d986e9ecbe24"
   },
   "outputs": [
    {
     "name": "stdout",
     "output_type": "stream",
     "text": [
      "Enter your expense or 0 to quit: 69\n",
      "69\n",
      "Enter your expense or 0 to quit: 79\n",
      "79\n",
      "Enter your expense or 0 to quit: 89\n",
      "89\n",
      "Enter your expense or 0 to quit: 59\n",
      "59\n",
      "Enter your expense or 0 to quit: 49\n",
      "49\n",
      "Enter your expense or 0 to quit: 0\n",
      "Quited\n",
      "[69, 79, 89, 59, 49]\n"
     ]
    }
   ],
   "source": [
    "expenses = []\n",
    "count = 1\n",
    "while count != 0:\n",
    "  count = int(input(\"Enter your expense or 0 to quit: \"))\n",
    "  if count == 0:\n",
    "    print(\"Quited\")\n",
    "  else:\n",
    "    print(count)\n",
    "    expenses.append(count)\n",
    "print(expenses) \n"
   ]
  },
  {
   "cell_type": "code",
   "execution_count": null,
   "metadata": {
    "colab": {
     "base_uri": "https://localhost:8080/"
    },
    "id": "0uhZBVS5scZf",
    "outputId": "99922b5a-7100-4aea-c181-eabab28f6316"
   },
   "outputs": [
    {
     "name": "stdout",
     "output_type": "stream",
     "text": [
      "Enter your expense or 0 to quit: 69\n",
      "69\n",
      "Enter your expense or 0 to quit: 89\n",
      "89\n",
      "Enter your expense or 0 to quit: 79\n",
      "79\n",
      "Enter your expense or 0 to quit: 59\n",
      "59\n",
      "Enter your expense or 0 to quit: 0\n",
      "[69, 89, 79, 59]\n"
     ]
    }
   ],
   "source": [
    "expenses = []\n",
    "count = 1\n",
    "while count != 0:\n",
    "  count = int(input(\"Enter your expense or 0 to quit: \"))\n",
    "  if count == 0:\n",
    "    continue\n",
    "  print(count)\n",
    "  expenses.append(count)\n",
    "print(expenses)"
   ]
  },
  {
   "cell_type": "code",
   "execution_count": null,
   "metadata": {
    "colab": {
     "base_uri": "https://localhost:8080/"
    },
    "id": "00GCCpZsF1rG",
    "outputId": "cba84e99-1427-4a7b-c5e0-5e4faf89cd65"
   },
   "outputs": [
    {
     "name": "stdout",
     "output_type": "stream",
     "text": [
      "['A', 'B', 'C', 'D', 'E', 'F', 'G', 'H', 'I', 'J', 'K', 'L', 'M', 'N', 'O', 'P', 'Q', 'R', 'S', 'T', 'U', 'V', 'W', 'X', 'Y']\n",
      "65 A\n",
      "66 B\n",
      "67 C\n",
      "68 D\n",
      "69 E\n",
      "70 F\n",
      "71 G\n",
      "72 H\n",
      "73 I\n",
      "74 J\n",
      "75 K\n",
      "76 L\n",
      "77 M\n",
      "78 N\n",
      "79 O\n",
      "80 P\n",
      "81 Q\n",
      "82 R\n",
      "83 S\n",
      "84 T\n",
      "85 U\n",
      "86 V\n",
      "87 W\n",
      "88 X\n",
      "89 Y\n",
      "90 Z\n",
      "['A', 'B', 'C', 'D', 'E', 'F', 'G', 'H', 'I', 'J', 'K', 'L', 'M', 'N', 'O', 'P', 'Q', 'R', 'S', 'T', 'U', 'V', 'W', 'X', 'Y', 'Z']\n"
     ]
    }
   ],
   "source": [
    "a = [chr(i) for i in range(65,90)]\n",
    "print(a)\n",
    "users = []\n",
    "count = 65\n",
    "while count <= 90:\n",
    "  print(count, chr(count))\n",
    "  users.append(chr(count))\n",
    "  count += 1\n",
    "print(users)"
   ]
  },
  {
   "cell_type": "code",
   "execution_count": null,
   "metadata": {
    "colab": {
     "base_uri": "https://localhost:8080/"
    },
    "id": "bMtiLmg2F4ON",
    "outputId": "da51178c-29da-4fed-dfc0-4ac5c7598aaf"
   },
   "outputs": [
    {
     "name": "stdout",
     "output_type": "stream",
     "text": [
      "Enter UserD\n",
      "D 3\n"
     ]
    }
   ],
   "source": [
    "users = ['A', 'B', 'C', 'D', 'E', 'F', 'G', 'H', 'I', 'J', 'K', 'L', 'M', 'N', 'O', 'P', 'Q', 'R', 'S', 'T', 'U', 'V', 'W', 'X', 'Y', 'Z']\n",
    "searched_user = input(\"Enter User\")\n",
    "\n",
    "count = 0\n",
    "while count <= len(users):\n",
    "  if searched_user == users[count]:\n",
    "    print(users[count], count)\n",
    "    break\n",
    "  count += 1\n"
   ]
  },
  {
   "cell_type": "code",
   "execution_count": null,
   "metadata": {
    "colab": {
     "base_uri": "https://localhost:8080/"
    },
    "id": "OIxd6nSowoi5",
    "outputId": "13422ab4-9b7b-4e46-ce45-494139a51060"
   },
   "outputs": [
    {
     "name": "stdout",
     "output_type": "stream",
     "text": [
      "Enter UserF\n",
      "A 0\n",
      "B 1\n",
      "C 2\n",
      "D 3\n",
      "E 4\n",
      "F 5\n"
     ]
    }
   ],
   "source": [
    "users = ['A', 'B', 'C', 'D', 'E', 'F', 'G', 'H', 'I', 'J', 'K', 'L', 'M', 'N', 'O', 'P', 'Q', 'R', 'S', 'T', 'U', 'V', 'W', 'X', 'Y', 'Z']\n",
    "searched_user = input(\"Enter User\")\n",
    "\n",
    "count = 0\n",
    "while count <= len(users):\n",
    "  print(users[count], count)\n",
    "  if searched_user == users[count]:\n",
    "    break\n",
    "  count += 1\n"
   ]
  },
  {
   "cell_type": "code",
   "execution_count": null,
   "metadata": {
    "colab": {
     "base_uri": "https://localhost:8080/"
    },
    "id": "Fke2MYgKF5Dv",
    "outputId": "2114625d-c540-400b-992e-d0e21222adb2"
   },
   "outputs": [
    {
     "name": "stdout",
     "output_type": "stream",
     "text": [
      "Enter UserG\n",
      "A\n",
      "B\n",
      "C\n",
      "D\n",
      "E\n",
      "F\n",
      "G\n"
     ]
    }
   ],
   "source": [
    "users = ['A', 'B', 'C', 'D', 'E', 'F', 'G', 'H', 'I', 'J', 'K', 'L', 'M', 'N', 'O', 'P', 'Q', 'R', 'S', 'T', 'U', 'V', 'W', 'X', 'Y', 'Z']\n",
    "searched_user = input(\"Enter User\")\n",
    "\n",
    "for user in users:\n",
    "  print(user)\n",
    "  if searched_user == user:\n",
    "    break\n",
    "  "
   ]
  },
  {
   "cell_type": "code",
   "execution_count": null,
   "metadata": {
    "colab": {
     "base_uri": "https://localhost:8080/"
    },
    "id": "CM9q0ItbF7BV",
    "outputId": "a7c96d2f-6429-499a-ad31-b3e09103ee64"
   },
   "outputs": [
    {
     "name": "stdout",
     "output_type": "stream",
     "text": [
      "index  =  [1, 2, 3]\n",
      "1\n",
      "2\n",
      "3\n",
      "names  =  ['ashar', 'waseem', 'cheema']\n",
      "ashar\n",
      "waseem\n",
      "cheema\n",
      "class  =  ['9th', '10th', '11th']\n",
      "9th\n",
      "10th\n",
      "11th\n"
     ]
    }
   ],
   "source": [
    "students = {\"index\":[1,2,3],\"names\":[\"ashar\",\"waseem\",\"cheema\"],\"class\":[\"9th\",\"10th\",\"11th\"]}\n",
    "\n",
    "for k,v in students.items():\n",
    "  print(k,\" = \",v)\n",
    "  for i in v:\n",
    "    print(i)\n",
    "  \n"
   ]
  },
  {
   "cell_type": "code",
   "execution_count": null,
   "metadata": {
    "colab": {
     "base_uri": "https://localhost:8080/"
    },
    "id": "H9cyBAsoF700",
    "outputId": "153c2f91-9512-4bca-a7cc-d2fd630884d6"
   },
   "outputs": [
    {
     "name": "stdout",
     "output_type": "stream",
     "text": [
      "index\n",
      "names\n",
      "class\n",
      "1\t2\t3\t\n",
      "ashar\twaseem\tcheema\t\n",
      "9th\t10th\t11th\t\n"
     ]
    }
   ],
   "source": [
    "students = {\"index\":[1,2,3],\"names\":[\"ashar\",\"waseem\",\"cheema\"],\"class\":[\"9th\",\"10th\",\"11th\"]}\n",
    "\n",
    "for k in students.keys():\n",
    "  print(k, end=\"\\n\")\n",
    "\n",
    "for v in students.values():\n",
    "    for i in v:\n",
    "      print(i, end=\"\\t\")\n",
    "    print()"
   ]
  },
  {
   "cell_type": "code",
   "execution_count": null,
   "metadata": {
    "colab": {
     "base_uri": "https://localhost:8080/"
    },
    "id": "4yrld3ZZF8U6",
    "outputId": "e30c6f13-c987-4778-c442-4c4f8afa2ba6"
   },
   "outputs": [
    {
     "name": "stdout",
     "output_type": "stream",
     "text": [
      "index\t1\t2\t3\t\n",
      "index\tashar\twaseem\tcheema\t\n",
      "index\t9th\t10th\t11th\t\n",
      "names\t1\t2\t3\t\n",
      "names\tashar\twaseem\tcheema\t\n",
      "names\t9th\t10th\t11th\t\n",
      "class\t1\t2\t3\t\n",
      "class\tashar\twaseem\tcheema\t\n",
      "class\t9th\t10th\t11th\t\n"
     ]
    }
   ],
   "source": [
    "students = {\"index\":[1,2,3],\"names\":[\"ashar\",\"waseem\",\"cheema\"],\"class\":[\"9th\",\"10th\",\"11th\"]}\n",
    "\n",
    "for k in students.keys():\n",
    "  for v in students.values():\n",
    "    print(k, end=\"\\t\")  \n",
    "    for i in v:\n",
    "      print(i, end=\"\\t\")\n",
    "    print()\n",
    "\n"
   ]
  },
  {
   "cell_type": "code",
   "execution_count": null,
   "metadata": {
    "colab": {
     "base_uri": "https://localhost:8080/"
    },
    "id": "PEdt_e0NF8ht",
    "outputId": "52ff0665-faae-4201-a02c-039cf5933146"
   },
   "outputs": [
    {
     "name": "stdout",
     "output_type": "stream",
     "text": [
      "{'index': [1, 2, 3], 'name': ['waseem', 'numan', 'ashar'], 'class': ['9th', '12th', '10th']}\n",
      "['waseem', 'numan', 'ashar']\n"
     ]
    }
   ],
   "source": [
    "students = {}\n",
    "\n",
    "students[\"index\"] = [1,2,3]\n",
    "students[\"name\"] = [\"waseem\",\"numan\",\"ashar\"]\n",
    "students[\"class\"] = [\"9th\",\"12th\",\"10th\"]\n",
    "\n",
    "print(students)\n",
    "print(students[\"name\"])\n",
    "\n"
   ]
  },
  {
   "cell_type": "code",
   "execution_count": null,
   "metadata": {
    "colab": {
     "base_uri": "https://localhost:8080/"
    },
    "id": "BiYl5yL9j2uv",
    "outputId": "1119bd7f-2d62-42e0-9c0f-6cb5accde0e7"
   },
   "outputs": [
    {
     "name": "stdout",
     "output_type": "stream",
     "text": [
      "current value: 0 previous value: 0 and the Sum is 0\n",
      "current value: 1 previous value: 0 and the Sum is 1\n",
      "current value: 2 previous value: 1 and the Sum is 3\n",
      "current value: 3 previous value: 2 and the Sum is 5\n",
      "current value: 4 previous value: 3 and the Sum is 7\n",
      "current value: 5 previous value: 4 and the Sum is 9\n",
      "current value: 6 previous value: 5 and the Sum is 11\n",
      "current value: 7 previous value: 6 and the Sum is 13\n",
      "current value: 8 previous value: 7 and the Sum is 15\n",
      "current value: 9 previous value: 8 and the Sum is 17\n",
      "current value: 10 previous value: 9 and the Sum is 19\n"
     ]
    }
   ],
   "source": [
    "for i in range(11):\n",
    "  b = i-1\n",
    "  if b < 0:\n",
    "    b = 0\n",
    "  print(f\"current value: {i} previous value: {b} and the Sum is {i+b}\")\n"
   ]
  },
  {
   "cell_type": "code",
   "execution_count": null,
   "metadata": {
    "colab": {
     "base_uri": "https://localhost:8080/"
    },
    "id": "DtitvPcrj3rN",
    "outputId": "84c2ec14-35d7-47e7-f667-acb95f5e5faa"
   },
   "outputs": [
    {
     "data": {
      "text/plain": [
       "37"
      ]
     },
     "execution_count": 5,
     "metadata": {},
     "output_type": "execute_result"
    }
   ],
   "source": [
    "def my_add(a,*b):\n",
    "  return a+sum(b)\n",
    "\n",
    "my_add(4,5,6,7,9,5,1)"
   ]
  },
  {
   "cell_type": "code",
   "execution_count": 1,
   "metadata": {
    "colab": {
     "base_uri": "https://localhost:8080/"
    },
    "id": "EQyWUrYoj31w",
    "outputId": "addddde5-fa8e-4a07-8759-6c66674b1b65"
   },
   "outputs": [
    {
     "name": "stdout",
     "output_type": "stream",
     "text": [
      "Enter Your Name: waseem\n",
      "Enter Your Father Name: Ejaz\n",
      "Enter Your Class: AI\n",
      "Enter Your Batch: 37\n",
      "STUDENT CARD\n",
      "Name: waseem\n",
      "Father Name: Ejaz\n",
      "Class: AI\n",
      "Batch: 37\n",
      "['waseem', 'Ejaz', 'AI', '37']\n"
     ]
    }
   ],
   "source": [
    "def student_card(a,b,c,d):\n",
    "  \"\"\"a=name, b=Fname, c=class, d=batch\"\"\"\n",
    "  data = []\n",
    "  print(\"STUDENT CARD\")\n",
    "  print(f\"Name: {a}\")\n",
    "  print(f\"Father Name: {b}\")\n",
    "  print(f\"Class: {c}\")\n",
    "  print(f\"Batch: {d}\")\n",
    "  [data.append(i) for i in (a,b,c,d)]\n",
    "  print(data)\n",
    "\n",
    "a = input(\"Enter Your Name: \")\n",
    "b = input(\"Enter Your Father Name: \")\n",
    "c = input(\"Enter Your Class: \")\n",
    "d = input(\"Enter Your Batch: \")\n",
    "\n",
    "student_card(a,b,c,d)"
   ]
  },
  {
   "cell_type": "code",
   "execution_count": 5,
   "metadata": {
    "colab": {
     "base_uri": "https://localhost:8080/"
    },
    "id": "UNGSXn-zj4AK",
    "outputId": "eb42fa43-af0a-4592-c1d7-f3ef2ad4fc82"
   },
   "outputs": [
    {
     "name": "stdout",
     "output_type": "stream",
     "text": [
      "Enter Your Name: waseem\n",
      "Enter Your Father Name: ejaz\n",
      "Enter Your Class: AI\n",
      "Enter Your Batch: 37\n",
      "STUDENT CARD\n",
      "Name: waseem\n",
      "Father Name: ejaz\n",
      "Class: AI\n",
      "Batch: 37\n",
      "['waseem', 'ejaz', 'AI', '37']\n"
     ]
    }
   ],
   "source": [
    "def student_card():\n",
    "  a = input(\"Enter Your Name: \")\n",
    "  b = input(\"Enter Your Father Name: \")\n",
    "  c = input(\"Enter Your Class: \")\n",
    "  d = input(\"Enter Your Batch: \")\n",
    "  data = []\n",
    "  print(\"STUDENT CARD\")\n",
    "  print(f\"Name: {a}\")\n",
    "  print(f\"Father Name: {b}\")\n",
    "  print(f\"Class: {c}\")\n",
    "  print(f\"Batch: {d}\")\n",
    "  [data.append(i) for i in (a,b,c,d)]\n",
    "  print(data)\n",
    "\n",
    "student_card()"
   ]
  },
  {
   "cell_type": "code",
   "execution_count": null,
   "metadata": {
    "colab": {
     "base_uri": "https://localhost:8080/"
    },
    "id": "icxrcO4Ij4J0",
    "outputId": "888f7705-633a-48e9-e95b-3c6e3c2636a2"
   },
   "outputs": [
    {
     "name": "stdout",
     "output_type": "stream",
     "text": [
      "Enter Your Name: Waseem\n",
      "Enter Your Father Name: Ejaz\n",
      "Enter Your Class: AI\n",
      "Enter Your Batch: 36\n",
      "STUDENT CARD\n",
      "Name: Waseem\n",
      "Father Name: Ejaz\n",
      "Class: AI\n",
      "Batch: 36\n",
      "['Waseem', 'Ejaz', 'AI', '36']\n"
     ]
    }
   ],
   "source": [
    "student_card()"
   ]
  },
  {
   "cell_type": "code",
   "execution_count": 2,
   "metadata": {
    "colab": {
     "base_uri": "https://localhost:8080/"
    },
    "id": "2lYSUrckj4Qp",
    "outputId": "fb0fee9d-c702-4994-eeb9-51898d9bbd4e"
   },
   "outputs": [
    {
     "name": "stdout",
     "output_type": "stream",
     "text": [
      "Printing cup\n",
      "Printing chair\n",
      "Printing table\n",
      "\n",
      "Following models are printed\n"
     ]
    },
    {
     "data": {
      "text/plain": [
       "['cup', 'chair', 'table']"
      ]
     },
     "execution_count": 2,
     "metadata": {},
     "output_type": "execute_result"
    }
   ],
   "source": [
    "un_printed = [\"table\",\"chair\",\"cup\"]\n",
    "completed_design = []\n",
    "\n",
    "while un_printed:\n",
    "  current_design = un_printed.pop()\n",
    "  print(f\"Printing {current_design}\")\n",
    "  completed_design.append(current_design)\n",
    "print(\"\\nFollowing models are printed\")\n",
    "[i for i in completed_design]\n"
   ]
  },
  {
   "cell_type": "code",
   "execution_count": 3,
   "metadata": {
    "colab": {
     "base_uri": "https://localhost:8080/"
    },
    "id": "ti9LS677j4Xr",
    "outputId": "9d98a4be-a5c1-4fcb-b3c0-876f88d866ac"
   },
   "outputs": [
    {
     "name": "stdout",
     "output_type": "stream",
     "text": [
      "Pyth\n"
     ]
    }
   ],
   "source": [
    "lang = \"Python\"\n",
    "print(lang[0:4])"
   ]
  },
  {
   "cell_type": "code",
   "execution_count": null,
   "metadata": {
    "id": "BP0kXnSoj4ea"
   },
   "outputs": [],
   "source": []
  },
  {
   "cell_type": "code",
   "execution_count": null,
   "metadata": {},
   "outputs": [],
   "source": []
  },
  {
   "cell_type": "code",
   "execution_count": null,
   "metadata": {},
   "outputs": [],
   "source": []
  },
  {
   "cell_type": "code",
   "execution_count": null,
   "metadata": {},
   "outputs": [],
   "source": []
  },
  {
   "cell_type": "code",
   "execution_count": null,
   "metadata": {},
   "outputs": [],
   "source": []
  },
  {
   "cell_type": "code",
   "execution_count": null,
   "metadata": {},
   "outputs": [],
   "source": []
  },
  {
   "cell_type": "code",
   "execution_count": null,
   "metadata": {},
   "outputs": [],
   "source": []
  },
  {
   "cell_type": "code",
   "execution_count": null,
   "metadata": {},
   "outputs": [],
   "source": []
  }
 ],
 "metadata": {
  "colab": {
   "collapsed_sections": [],
   "provenance": []
  },
  "kernelspec": {
   "display_name": "Python 3 (ipykernel)",
   "language": "python",
   "name": "python3"
  },
  "language_info": {
   "codemirror_mode": {
    "name": "ipython",
    "version": 3
   },
   "file_extension": ".py",
   "mimetype": "text/x-python",
   "name": "python",
   "nbconvert_exporter": "python",
   "pygments_lexer": "ipython3",
   "version": "3.9.12"
  }
 },
 "nbformat": 4,
 "nbformat_minor": 1
}
