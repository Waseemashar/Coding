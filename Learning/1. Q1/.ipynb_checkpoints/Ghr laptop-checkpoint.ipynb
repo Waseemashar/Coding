{
 "cells": [
  {
   "cell_type": "code",
   "execution_count": 1,
   "id": "4cc649fb",
   "metadata": {},
   "outputs": [
    {
     "data": {
      "text/plain": [
       "2588985206960"
      ]
     },
     "execution_count": 1,
     "metadata": {},
     "output_type": "execute_result"
    }
   ],
   "source": [
    "JV = \"Waseem\"\n",
    "BW = \"Ashar\"\n",
    "id(JV)\n",
    "id(BW)"
   ]
  },
  {
   "cell_type": "code",
   "execution_count": 2,
   "id": "6bc474f8",
   "metadata": {},
   "outputs": [
    {
     "data": {
      "text/plain": [
       "2588985205296"
      ]
     },
     "execution_count": 2,
     "metadata": {},
     "output_type": "execute_result"
    }
   ],
   "source": [
    "id(JV)"
   ]
  },
  {
   "cell_type": "code",
   "execution_count": 3,
   "id": "b114fcf9",
   "metadata": {},
   "outputs": [
    {
     "data": {
      "text/plain": [
       "2588985206960"
      ]
     },
     "execution_count": 3,
     "metadata": {},
     "output_type": "execute_result"
    }
   ],
   "source": [
    "id(BW)"
   ]
  },
  {
   "cell_type": "code",
   "execution_count": 4,
   "id": "de5cc2d2",
   "metadata": {},
   "outputs": [
    {
     "data": {
      "text/plain": [
       "2588902582704"
      ]
     },
     "execution_count": 4,
     "metadata": {},
     "output_type": "execute_result"
    }
   ],
   "source": [
    "id(5)"
   ]
  },
  {
   "cell_type": "code",
   "execution_count": 5,
   "id": "634b1538",
   "metadata": {},
   "outputs": [
    {
     "data": {
      "text/plain": [
       "2588902582704"
      ]
     },
     "execution_count": 5,
     "metadata": {},
     "output_type": "execute_result"
    }
   ],
   "source": [
    "Value = 5\n",
    "id(Value)"
   ]
  },
  {
   "cell_type": "code",
   "execution_count": 6,
   "id": "17a10391",
   "metadata": {},
   "outputs": [
    {
     "data": {
      "text/plain": [
       "2588902582704"
      ]
     },
     "execution_count": 6,
     "metadata": {},
     "output_type": "execute_result"
    }
   ],
   "source": [
    "new_value = 5\n",
    "id(new_value)"
   ]
  },
  {
   "cell_type": "code",
   "execution_count": 8,
   "id": "2e3e56e8",
   "metadata": {},
   "outputs": [
    {
     "name": "stdout",
     "output_type": "stream",
     "text": [
      "5\n"
     ]
    }
   ],
   "source": [
    "print(new_value)"
   ]
  },
  {
   "cell_type": "code",
   "execution_count": 9,
   "id": "fee713a8",
   "metadata": {},
   "outputs": [
    {
     "name": "stdout",
     "output_type": "stream",
     "text": [
      "5\n"
     ]
    }
   ],
   "source": [
    "print(Value)"
   ]
  },
  {
   "cell_type": "code",
   "execution_count": 10,
   "id": "fd0c911c",
   "metadata": {},
   "outputs": [
    {
     "data": {
      "text/plain": [
       "int"
      ]
     },
     "execution_count": 10,
     "metadata": {},
     "output_type": "execute_result"
    }
   ],
   "source": [
    "type(Value)"
   ]
  },
  {
   "cell_type": "code",
   "execution_count": 29,
   "id": "b486e8f6",
   "metadata": {},
   "outputs": [],
   "source": [
    "Same = \"waseem\"\n",
    "id(Same)\n",
    "del(Same)"
   ]
  },
  {
   "cell_type": "code",
   "execution_count": 31,
   "id": "f2886df5",
   "metadata": {},
   "outputs": [
    {
     "data": {
      "text/plain": [
       "2588985460016"
      ]
     },
     "execution_count": 31,
     "metadata": {},
     "output_type": "execute_result"
    }
   ],
   "source": [
    "name = \"waseem\"\n",
    "id(name)"
   ]
  },
  {
   "cell_type": "code",
   "execution_count": null,
   "id": "7b6ad7fa",
   "metadata": {},
   "outputs": [],
   "source": []
  },
  {
   "cell_type": "code",
   "execution_count": null,
   "id": "a63e5f48",
   "metadata": {},
   "outputs": [],
   "source": []
  },
  {
   "cell_type": "code",
   "execution_count": null,
   "id": "6c4c6183",
   "metadata": {},
   "outputs": [],
   "source": []
  },
  {
   "cell_type": "code",
   "execution_count": null,
   "id": "3c5ca924",
   "metadata": {},
   "outputs": [],
   "source": []
  },
  {
   "cell_type": "code",
   "execution_count": null,
   "id": "ad045a85",
   "metadata": {},
   "outputs": [],
   "source": []
  },
  {
   "cell_type": "code",
   "execution_count": null,
   "id": "edd72b1d",
   "metadata": {},
   "outputs": [],
   "source": []
  },
  {
   "cell_type": "code",
   "execution_count": null,
   "id": "455bdf0e",
   "metadata": {},
   "outputs": [],
   "source": []
  },
  {
   "cell_type": "code",
   "execution_count": null,
   "id": "65a4fb67",
   "metadata": {},
   "outputs": [],
   "source": []
  }
 ],
 "metadata": {
  "kernelspec": {
   "display_name": "Python 3 (ipykernel)",
   "language": "python",
   "name": "python3"
  },
  "language_info": {
   "codemirror_mode": {
    "name": "ipython",
    "version": 3
   },
   "file_extension": ".py",
   "mimetype": "text/x-python",
   "name": "python",
   "nbconvert_exporter": "python",
   "pygments_lexer": "ipython3",
   "version": "3.9.12"
  }
 },
 "nbformat": 4,
 "nbformat_minor": 5
}
